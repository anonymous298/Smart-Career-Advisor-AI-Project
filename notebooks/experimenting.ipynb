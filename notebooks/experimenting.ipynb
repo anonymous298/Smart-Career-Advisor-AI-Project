{
 "cells": [
  {
   "cell_type": "code",
   "execution_count": 6,
   "metadata": {},
   "outputs": [
    {
     "name": "stdout",
     "output_type": "stream",
     "text": [
      "exist\n"
     ]
    }
   ],
   "source": [
    "import os\n",
    "\n",
    "if os.path.exists(r'data\\new_career_dataset.csv'):\n",
    "    print('exist')"
   ]
  },
  {
   "cell_type": "code",
   "execution_count": 7,
   "metadata": {},
   "outputs": [
    {
     "data": {
      "text/html": [
       "<div>\n",
       "<style scoped>\n",
       "    .dataframe tbody tr th:only-of-type {\n",
       "        vertical-align: middle;\n",
       "    }\n",
       "\n",
       "    .dataframe tbody tr th {\n",
       "        vertical-align: top;\n",
       "    }\n",
       "\n",
       "    .dataframe thead th {\n",
       "        text-align: right;\n",
       "    }\n",
       "</style>\n",
       "<table border=\"1\" class=\"dataframe\">\n",
       "  <thead>\n",
       "    <tr style=\"text-align: right;\">\n",
       "      <th></th>\n",
       "      <th>Interest</th>\n",
       "      <th>Skill_Level</th>\n",
       "      <th>Work_Style</th>\n",
       "      <th>Education</th>\n",
       "      <th>Personality</th>\n",
       "      <th>Problem_Solving</th>\n",
       "      <th>Tech</th>\n",
       "      <th>Communication</th>\n",
       "      <th>Leadership</th>\n",
       "      <th>Creativity</th>\n",
       "      <th>Career</th>\n",
       "    </tr>\n",
       "  </thead>\n",
       "  <tbody>\n",
       "    <tr>\n",
       "      <th>0</th>\n",
       "      <td>art</td>\n",
       "      <td>expert</td>\n",
       "      <td>flexible</td>\n",
       "      <td>masters</td>\n",
       "      <td>thinker</td>\n",
       "      <td>creative</td>\n",
       "      <td>very high</td>\n",
       "      <td>excellent</td>\n",
       "      <td>strong</td>\n",
       "      <td>medium</td>\n",
       "      <td>business analyst</td>\n",
       "    </tr>\n",
       "    <tr>\n",
       "      <th>1</th>\n",
       "      <td>technology</td>\n",
       "      <td>advanced</td>\n",
       "      <td>flexible</td>\n",
       "      <td>phd</td>\n",
       "      <td>thinker</td>\n",
       "      <td>logical</td>\n",
       "      <td>high</td>\n",
       "      <td>poor</td>\n",
       "      <td>moderate</td>\n",
       "      <td>very high</td>\n",
       "      <td>site reliability engineer</td>\n",
       "    </tr>\n",
       "    <tr>\n",
       "      <th>2</th>\n",
       "      <td>art</td>\n",
       "      <td>intermediate</td>\n",
       "      <td>team</td>\n",
       "      <td>phd</td>\n",
       "      <td>extrovert</td>\n",
       "      <td>intuitive</td>\n",
       "      <td>high</td>\n",
       "      <td>excellent</td>\n",
       "      <td>collaborative</td>\n",
       "      <td>low</td>\n",
       "      <td>financial analyst</td>\n",
       "    </tr>\n",
       "    <tr>\n",
       "      <th>3</th>\n",
       "      <td>business</td>\n",
       "      <td>expert</td>\n",
       "      <td>remote</td>\n",
       "      <td>diploma</td>\n",
       "      <td>extrovert</td>\n",
       "      <td>intuitive</td>\n",
       "      <td>high</td>\n",
       "      <td>fluent</td>\n",
       "      <td>collaborative</td>\n",
       "      <td>high</td>\n",
       "      <td>speech recognition specialist</td>\n",
       "    </tr>\n",
       "    <tr>\n",
       "      <th>4</th>\n",
       "      <td>technology</td>\n",
       "      <td>expert</td>\n",
       "      <td>solo</td>\n",
       "      <td>bachelors</td>\n",
       "      <td>thinker</td>\n",
       "      <td>creative</td>\n",
       "      <td>very high</td>\n",
       "      <td>excellent</td>\n",
       "      <td>visionary</td>\n",
       "      <td>medium</td>\n",
       "      <td>game developer</td>\n",
       "    </tr>\n",
       "  </tbody>\n",
       "</table>\n",
       "</div>"
      ],
      "text/plain": [
       "     Interest   Skill_Level Work_Style  Education Personality Problem_Solving  \\\n",
       "0         art        expert   flexible    masters     thinker        creative   \n",
       "1  technology      advanced   flexible        phd     thinker         logical   \n",
       "2         art  intermediate       team        phd   extrovert       intuitive   \n",
       "3    business        expert     remote    diploma   extrovert       intuitive   \n",
       "4  technology        expert       solo  bachelors     thinker        creative   \n",
       "\n",
       "        Tech Communication     Leadership Creativity  \\\n",
       "0  very high     excellent         strong     medium   \n",
       "1       high          poor       moderate  very high   \n",
       "2       high     excellent  collaborative        low   \n",
       "3       high        fluent  collaborative       high   \n",
       "4  very high     excellent      visionary     medium   \n",
       "\n",
       "                          Career  \n",
       "0               business analyst  \n",
       "1      site reliability engineer  \n",
       "2              financial analyst  \n",
       "3  speech recognition specialist  \n",
       "4                 game developer  "
      ]
     },
     "execution_count": 7,
     "metadata": {},
     "output_type": "execute_result"
    }
   ],
   "source": [
    "from dataclasses import dataclass\n",
    "import pandas as pd\n",
    "\n",
    "@dataclass\n",
    "class DataPath:\n",
    "    data_path: str = r'data\\new_career_dataset.csv'\n",
    "    artifact_data_path = r'artifacts/data.csv'\n",
    "\n",
    "paths = DataPath()\n",
    "\n",
    "df = pd.read_csv(paths.data_path)\n",
    "df.head()"
   ]
  },
  {
   "cell_type": "code",
   "execution_count": 43,
   "metadata": {},
   "outputs": [],
   "source": [
    "from sklearn.preprocessing import OneHotEncoder, LabelEncoder\n",
    "from sklearn.compose import ColumnTransformer\n",
    "from sklearn.pipeline import Pipeline\n",
    "from sklearn.model_selection import train_test_split"
   ]
  },
  {
   "cell_type": "code",
   "execution_count": 44,
   "metadata": {},
   "outputs": [],
   "source": [
    "X = df.drop(['Career'], axis=1)\n",
    "y = df['Career']"
   ]
  },
  {
   "cell_type": "code",
   "execution_count": 45,
   "metadata": {},
   "outputs": [],
   "source": [
    "columns = X.columns"
   ]
  },
  {
   "cell_type": "code",
   "execution_count": 46,
   "metadata": {},
   "outputs": [],
   "source": [
    "X_train, X_test, y_train, y_test = train_test_split(X, y, test_size=0.2)"
   ]
  },
  {
   "cell_type": "code",
   "execution_count": 47,
   "metadata": {},
   "outputs": [],
   "source": [
    "preprocessor = ColumnTransformer([\n",
    "    ('OHE', OneHotEncoder(sparse_output=False), columns)\n",
    "], remainder='passthrough')"
   ]
  },
  {
   "cell_type": "code",
   "execution_count": 48,
   "metadata": {},
   "outputs": [],
   "source": [
    "X_train_trf = preprocessor.fit_transform(X_train)\n",
    "X_test_trf = preprocessor.transform(X_test)"
   ]
  },
  {
   "cell_type": "code",
   "execution_count": 49,
   "metadata": {},
   "outputs": [],
   "source": [
    "le = LabelEncoder()\n",
    "\n",
    "y_train_trf = le.fit_transform(y_train)\n",
    "y_test_trf = le.transform(y_test)"
   ]
  },
  {
   "cell_type": "code",
   "execution_count": 34,
   "metadata": {},
   "outputs": [],
   "source": [
    "from sklearn.model_selection import train_test_split\n",
    "\n",
    "train, test = train_test_split(df, test_size=0.2)"
   ]
  },
  {
   "cell_type": "code",
   "execution_count": 35,
   "metadata": {},
   "outputs": [
    {
     "data": {
      "text/plain": [
       "(1000, 11)"
      ]
     },
     "execution_count": 35,
     "metadata": {},
     "output_type": "execute_result"
    }
   ],
   "source": [
    "test.shape"
   ]
  },
  {
   "cell_type": "code",
   "execution_count": 38,
   "metadata": {},
   "outputs": [
    {
     "data": {
      "text/html": [
       "<div>\n",
       "<style scoped>\n",
       "    .dataframe tbody tr th:only-of-type {\n",
       "        vertical-align: middle;\n",
       "    }\n",
       "\n",
       "    .dataframe tbody tr th {\n",
       "        vertical-align: top;\n",
       "    }\n",
       "\n",
       "    .dataframe thead th {\n",
       "        text-align: right;\n",
       "    }\n",
       "</style>\n",
       "<table border=\"1\" class=\"dataframe\">\n",
       "  <thead>\n",
       "    <tr style=\"text-align: right;\">\n",
       "      <th></th>\n",
       "      <th>Interest</th>\n",
       "      <th>Skill_Level</th>\n",
       "      <th>Work_Style</th>\n",
       "      <th>Education</th>\n",
       "      <th>Personality</th>\n",
       "      <th>Problem_Solving</th>\n",
       "      <th>Tech</th>\n",
       "      <th>Communication</th>\n",
       "      <th>Leadership</th>\n",
       "      <th>Creativity</th>\n",
       "      <th>Career</th>\n",
       "    </tr>\n",
       "  </thead>\n",
       "  <tbody>\n",
       "    <tr>\n",
       "      <th>0</th>\n",
       "      <td>art</td>\n",
       "      <td>expert</td>\n",
       "      <td>flexible</td>\n",
       "      <td>masters</td>\n",
       "      <td>thinker</td>\n",
       "      <td>creative</td>\n",
       "      <td>very high</td>\n",
       "      <td>excellent</td>\n",
       "      <td>strong</td>\n",
       "      <td>medium</td>\n",
       "      <td>business analyst</td>\n",
       "    </tr>\n",
       "    <tr>\n",
       "      <th>1</th>\n",
       "      <td>technology</td>\n",
       "      <td>advanced</td>\n",
       "      <td>flexible</td>\n",
       "      <td>phd</td>\n",
       "      <td>thinker</td>\n",
       "      <td>logical</td>\n",
       "      <td>high</td>\n",
       "      <td>poor</td>\n",
       "      <td>moderate</td>\n",
       "      <td>very high</td>\n",
       "      <td>site reliability engineer</td>\n",
       "    </tr>\n",
       "    <tr>\n",
       "      <th>2</th>\n",
       "      <td>art</td>\n",
       "      <td>intermediate</td>\n",
       "      <td>team</td>\n",
       "      <td>phd</td>\n",
       "      <td>extrovert</td>\n",
       "      <td>intuitive</td>\n",
       "      <td>high</td>\n",
       "      <td>excellent</td>\n",
       "      <td>collaborative</td>\n",
       "      <td>low</td>\n",
       "      <td>financial analyst</td>\n",
       "    </tr>\n",
       "    <tr>\n",
       "      <th>3</th>\n",
       "      <td>business</td>\n",
       "      <td>expert</td>\n",
       "      <td>remote</td>\n",
       "      <td>diploma</td>\n",
       "      <td>extrovert</td>\n",
       "      <td>intuitive</td>\n",
       "      <td>high</td>\n",
       "      <td>fluent</td>\n",
       "      <td>collaborative</td>\n",
       "      <td>high</td>\n",
       "      <td>speech recognition specialist</td>\n",
       "    </tr>\n",
       "    <tr>\n",
       "      <th>4</th>\n",
       "      <td>technology</td>\n",
       "      <td>expert</td>\n",
       "      <td>solo</td>\n",
       "      <td>bachelors</td>\n",
       "      <td>thinker</td>\n",
       "      <td>creative</td>\n",
       "      <td>very high</td>\n",
       "      <td>excellent</td>\n",
       "      <td>visionary</td>\n",
       "      <td>medium</td>\n",
       "      <td>game developer</td>\n",
       "    </tr>\n",
       "    <tr>\n",
       "      <th>...</th>\n",
       "      <td>...</td>\n",
       "      <td>...</td>\n",
       "      <td>...</td>\n",
       "      <td>...</td>\n",
       "      <td>...</td>\n",
       "      <td>...</td>\n",
       "      <td>...</td>\n",
       "      <td>...</td>\n",
       "      <td>...</td>\n",
       "      <td>...</td>\n",
       "      <td>...</td>\n",
       "    </tr>\n",
       "    <tr>\n",
       "      <th>4995</th>\n",
       "      <td>technology</td>\n",
       "      <td>advanced</td>\n",
       "      <td>solo</td>\n",
       "      <td>bachelors</td>\n",
       "      <td>thinker</td>\n",
       "      <td>intuitive</td>\n",
       "      <td>very high</td>\n",
       "      <td>fluent</td>\n",
       "      <td>collaborative</td>\n",
       "      <td>low</td>\n",
       "      <td>web developer</td>\n",
       "    </tr>\n",
       "    <tr>\n",
       "      <th>4996</th>\n",
       "      <td>science</td>\n",
       "      <td>intermediate</td>\n",
       "      <td>flexible</td>\n",
       "      <td>high school</td>\n",
       "      <td>extrovert</td>\n",
       "      <td>logical</td>\n",
       "      <td>medium</td>\n",
       "      <td>poor</td>\n",
       "      <td>collaborative</td>\n",
       "      <td>medium</td>\n",
       "      <td>automation engineer</td>\n",
       "    </tr>\n",
       "    <tr>\n",
       "      <th>4997</th>\n",
       "      <td>art</td>\n",
       "      <td>advanced</td>\n",
       "      <td>flexible</td>\n",
       "      <td>diploma</td>\n",
       "      <td>introvert</td>\n",
       "      <td>intuitive</td>\n",
       "      <td>very high</td>\n",
       "      <td>poor</td>\n",
       "      <td>visionary</td>\n",
       "      <td>high</td>\n",
       "      <td>technical writer</td>\n",
       "    </tr>\n",
       "    <tr>\n",
       "      <th>4998</th>\n",
       "      <td>medicine</td>\n",
       "      <td>intermediate</td>\n",
       "      <td>team</td>\n",
       "      <td>masters</td>\n",
       "      <td>doer</td>\n",
       "      <td>creative</td>\n",
       "      <td>very high</td>\n",
       "      <td>poor</td>\n",
       "      <td>moderate</td>\n",
       "      <td>high</td>\n",
       "      <td>iot specialist</td>\n",
       "    </tr>\n",
       "    <tr>\n",
       "      <th>4999</th>\n",
       "      <td>medicine</td>\n",
       "      <td>advanced</td>\n",
       "      <td>flexible</td>\n",
       "      <td>diploma</td>\n",
       "      <td>extrovert</td>\n",
       "      <td>analytical</td>\n",
       "      <td>high</td>\n",
       "      <td>outstanding</td>\n",
       "      <td>visionary</td>\n",
       "      <td>exceptional</td>\n",
       "      <td>computer vision engineer</td>\n",
       "    </tr>\n",
       "  </tbody>\n",
       "</table>\n",
       "<p>5000 rows × 11 columns</p>\n",
       "</div>"
      ],
      "text/plain": [
       "        Interest   Skill_Level Work_Style    Education Personality  \\\n",
       "0            art        expert   flexible      masters     thinker   \n",
       "1     technology      advanced   flexible          phd     thinker   \n",
       "2            art  intermediate       team          phd   extrovert   \n",
       "3       business        expert     remote      diploma   extrovert   \n",
       "4     technology        expert       solo    bachelors     thinker   \n",
       "...          ...           ...        ...          ...         ...   \n",
       "4995  technology      advanced       solo    bachelors     thinker   \n",
       "4996     science  intermediate   flexible  high school   extrovert   \n",
       "4997         art      advanced   flexible      diploma   introvert   \n",
       "4998    medicine  intermediate       team      masters        doer   \n",
       "4999    medicine      advanced   flexible      diploma   extrovert   \n",
       "\n",
       "     Problem_Solving       Tech Communication     Leadership   Creativity  \\\n",
       "0           creative  very high     excellent         strong       medium   \n",
       "1            logical       high          poor       moderate    very high   \n",
       "2          intuitive       high     excellent  collaborative          low   \n",
       "3          intuitive       high        fluent  collaborative         high   \n",
       "4           creative  very high     excellent      visionary       medium   \n",
       "...              ...        ...           ...            ...          ...   \n",
       "4995       intuitive  very high        fluent  collaborative          low   \n",
       "4996         logical     medium          poor  collaborative       medium   \n",
       "4997       intuitive  very high          poor      visionary         high   \n",
       "4998        creative  very high          poor       moderate         high   \n",
       "4999      analytical       high   outstanding      visionary  exceptional   \n",
       "\n",
       "                             Career  \n",
       "0                  business analyst  \n",
       "1         site reliability engineer  \n",
       "2                 financial analyst  \n",
       "3     speech recognition specialist  \n",
       "4                    game developer  \n",
       "...                             ...  \n",
       "4995                  web developer  \n",
       "4996            automation engineer  \n",
       "4997               technical writer  \n",
       "4998                 iot specialist  \n",
       "4999       computer vision engineer  \n",
       "\n",
       "[5000 rows x 11 columns]"
      ]
     },
     "execution_count": 38,
     "metadata": {},
     "output_type": "execute_result"
    }
   ],
   "source": [
    "df"
   ]
  },
  {
   "cell_type": "code",
   "execution_count": 51,
   "metadata": {},
   "outputs": [
    {
     "data": {
      "text/plain": [
       "(array([[0., 1., 0., ..., 0., 1., 0.],\n",
       "        [0., 0., 0., ..., 0., 1., 0.],\n",
       "        [0., 0., 0., ..., 0., 0., 0.],\n",
       "        ...,\n",
       "        [0., 1., 0., ..., 1., 0., 0.],\n",
       "        [1., 0., 0., ..., 0., 0., 0.],\n",
       "        [0., 1., 0., ..., 0., 1., 0.]]),\n",
       " array([[0., 0., 1., ..., 1., 0., 0.],\n",
       "        [0., 1., 0., ..., 0., 0., 0.],\n",
       "        [0., 0., 0., ..., 1., 0., 0.],\n",
       "        ...,\n",
       "        [0., 1., 0., ..., 0., 0., 0.],\n",
       "        [0., 0., 1., ..., 0., 0., 0.],\n",
       "        [1., 0., 0., ..., 0., 1., 0.]]),\n",
       " array([10,  4, 25, ..., 31, 30, 26]),\n",
       " array([20,  6,  7, 35, 32, 32,  8,  2,  5, 26, 16,  4, 11, 18, 24,  6, 32,\n",
       "         4, 33, 32,  4, 19, 22, 20, 37,  2, 31,  1, 28,  0, 32, 38, 36,  1,\n",
       "        19,  3,  8, 18, 25,  5, 19, 31, 29, 34, 25,  3, 28, 17, 29, 34, 32,\n",
       "        21, 19, 30, 17, 32,  5, 38,  2,  6, 23,  7, 34, 23, 19,  5, 14, 35,\n",
       "         3, 13,  3,  8, 20, 34, 25,  4, 28, 10, 23, 14, 10, 27,  4, 30, 33,\n",
       "         2, 12, 19,  8, 14, 10, 32, 28, 38, 38, 17,  7, 14, 33,  0, 39, 26,\n",
       "         3,  5,  0, 27, 18,  2, 11,  3,  3, 14, 32, 13, 21,  9, 13,  6, 10,\n",
       "         1, 19, 22, 30,  7, 39, 26, 18, 16, 19,  3,  0, 22, 38, 12,  2, 36,\n",
       "        27, 31, 31,  2, 28, 10,  8, 27,  6,  7, 22, 25, 28, 21,  9, 29, 33,\n",
       "        24, 28, 27,  4, 21, 29, 27, 34, 22, 34, 38, 37,  7,  6, 18, 26,  4,\n",
       "        22, 26,  3,  4,  7, 39, 33,  9,  3, 20,  4, 26, 29, 30, 37,  6, 27,\n",
       "        17, 22,  8, 30, 18,  3, 20, 16, 39,  4, 18, 26,  7,  0, 16,  2,  6,\n",
       "        25, 14,  0, 16,  7, 25, 29, 25, 36, 27,  2,  7, 25, 31,  9, 13,  2,\n",
       "        24, 11,  2, 19, 13,  9, 32, 11, 10, 31, 38, 24, 22, 16, 31, 22,  0,\n",
       "        34,  7, 11, 36, 11, 22, 21,  7, 34, 34, 22, 28, 36, 27, 36,  2, 30,\n",
       "        10, 22, 37, 35, 26, 38, 27,  8,  0, 27, 13, 39, 23, 11, 23, 15, 20,\n",
       "        13, 31, 39, 19, 23,  5, 16, 27, 24, 29,  7, 18, 30, 24, 15, 14, 25,\n",
       "         3, 39, 29, 20, 20,  9, 29, 18, 25, 37, 28, 33, 24, 34, 29, 10,  5,\n",
       "        30,  1, 18, 19,  1,  2, 39,  2,  7, 27, 22, 39, 28,  4, 18, 13, 12,\n",
       "        15, 32, 38,  0, 13, 34, 32, 13, 36, 24, 23, 15, 18, 34, 34,  2, 10,\n",
       "        18, 16, 26, 32, 16, 17, 18, 27,  6, 33,  4, 35, 33, 16, 29, 27,  8,\n",
       "        13, 37, 39, 16,  0, 39, 15, 19, 30, 30,  4,  2,  1, 30,  4, 34,  3,\n",
       "        15,  6, 18, 15, 38, 19,  0, 36, 10,  1, 10, 18, 24,  7, 34,  4, 21,\n",
       "         4, 24, 17, 35,  3,  6, 17, 28, 36, 39, 21, 25, 39,  5, 16, 28,  4,\n",
       "        11, 36, 24, 28,  6, 24, 36, 25, 12, 16, 16, 24, 29, 30, 30,  4, 36,\n",
       "        16,  9, 10, 18, 35, 15, 20, 27,  6, 10, 15, 20, 23, 33, 38, 39, 19,\n",
       "        17, 36, 33, 23, 34, 36, 13, 10, 28, 12, 38,  6, 27, 22, 25, 11, 33,\n",
       "         1,  6, 26,  6,  0, 31,  9,  1, 38, 35, 33,  0,  6, 26, 31, 34, 34,\n",
       "         7, 35, 14, 17,  5, 22, 37, 35, 39, 24, 17,  0, 20,  8, 23, 30, 16,\n",
       "         8, 36,  4, 37, 15,  3,  0,  3, 21, 13, 37, 15,  5, 27, 17,  8, 22,\n",
       "        38,  9, 13, 31,  7, 16, 39, 27,  8, 26,  0, 32, 15,  8,  1,  9, 31,\n",
       "         3, 39, 39,  7, 31, 17, 38, 26, 10, 39, 15, 29, 13, 36, 39, 13, 21,\n",
       "        10, 33, 13,  2, 32, 11, 20, 13, 18, 11, 18,  6, 23, 25, 30, 15, 14,\n",
       "        24,  0, 11, 23,  5,  5, 27, 39, 10,  9,  4,  0, 39, 37, 21, 37, 31,\n",
       "        33,  6, 10, 38, 35, 13, 34, 14, 32, 12, 35, 10,  8, 35, 19, 17, 21,\n",
       "        13, 28, 39, 31, 13,  7,  6, 36, 11, 38,  6,  6,  7, 33, 15,  6, 37,\n",
       "        14, 32, 39, 37,  2, 20, 11, 25,  3, 39, 39, 20, 33,  4, 23, 35,  0,\n",
       "         8,  8, 16,  6, 33,  4, 27, 17, 32, 27,  1,  9, 34,  6, 10, 38, 37,\n",
       "         5, 27, 19, 11, 10, 34, 22,  9,  2,  6,  6, 34, 12,  6, 32, 17, 11,\n",
       "        35,  5, 28, 22, 13, 21, 24, 13, 11,  0,  0, 33,  8,  4, 35, 10, 14,\n",
       "        33, 24, 33, 24,  4, 39, 38, 31, 14, 17, 23,  4, 26, 19, 35, 18,  8,\n",
       "        19, 17,  2,  6, 11, 34,  1,  1, 31, 14, 14, 15,  5, 15, 38,  3, 15,\n",
       "         5, 29,  0, 22, 12,  7, 14, 12,  3, 18, 20, 31,  3,  8, 17, 32, 25,\n",
       "         7,  7, 34, 31,  5, 22, 39, 39, 20, 11, 21, 13,  9, 11, 15,  6, 38,\n",
       "        31, 33, 24, 18, 30, 35, 18, 32, 12,  3,  2, 39,  2, 14, 27, 21, 28,\n",
       "         3, 27, 25, 17, 11, 38,  4,  1, 19,  1, 33,  2, 18, 17, 27, 28, 18,\n",
       "         6, 31,  4, 29, 30,  9, 14,  8,  6, 21, 34,  0,  8, 10, 14, 10, 20,\n",
       "        34, 24, 15, 35,  1, 14, 28,  9, 22,  8, 37, 10, 20, 16, 30, 18, 39,\n",
       "        34, 15, 18, 20, 34, 20,  3, 20, 24, 10,  4, 19, 15, 25, 28, 30, 27,\n",
       "         3, 39,  3, 33,  4, 22,  8, 33, 30, 26,  4, 37, 16, 31, 33, 39,  3,\n",
       "        13,  1,  8,  8,  6, 39, 20, 22,  7, 30, 27, 25,  8, 20,  6, 36, 34,\n",
       "        21,  6, 22, 38, 19, 34,  8, 32, 31, 17, 18,  7, 20,  1,  5, 24, 16,\n",
       "        19, 12, 25, 29, 26,  2, 27, 16, 29, 31,  4, 22, 31,  4, 14, 36, 28,\n",
       "        19, 35, 28, 38, 34, 17,  0, 30, 30, 35,  1, 22,  7, 13,  4, 31, 36,\n",
       "        28, 13,  9, 33, 15, 31, 26, 26,  9,  0,  1, 17, 34, 15, 28, 10,  7,\n",
       "         7, 11, 33, 33,  8, 26,  3, 37, 18, 16,  9, 16,  7, 33, 13, 22, 28,\n",
       "        23, 18, 21, 33,  5, 38, 11,  5,  0, 15, 31, 21, 22, 34, 14, 39, 26,\n",
       "        31, 31, 12, 24,  9, 38,  9, 24,  5, 23, 13, 38,  2, 27,  6, 26,  3,\n",
       "        24, 23,  3, 24,  6,  5, 28, 38, 24, 34, 34, 32, 16, 22]))"
      ]
     },
     "execution_count": 51,
     "metadata": {},
     "output_type": "execute_result"
    }
   ],
   "source": [
    "X_train_trf, X_test_trf, y_train_trf, y_test_trf"
   ]
  },
  {
   "cell_type": "code",
   "execution_count": 90,
   "metadata": {},
   "outputs": [],
   "source": [
    "from tensorflow.keras.models import Sequential\n",
    "from tensorflow.keras.layers import Dense, Dropout\n",
    "from tensorflow.keras.regularizers import l2"
   ]
  },
  {
   "cell_type": "code",
   "execution_count": 61,
   "metadata": {},
   "outputs": [
    {
     "data": {
      "text/plain": [
       "40"
      ]
     },
     "execution_count": 61,
     "metadata": {},
     "output_type": "execute_result"
    }
   ],
   "source": [
    "len(le.classes_)"
   ]
  },
  {
   "cell_type": "code",
   "execution_count": 91,
   "metadata": {},
   "outputs": [],
   "source": [
    "model = Sequential()\n",
    "model.add(Dense(256, activation='relu', input_shape=(X_train_trf.shape[1],), kernel_regularizer=l2(0.01)))\n",
    "# model.add(Dropout(0.2))\n",
    "model.add(Dense(128, activation='relu', kernel_regularizer=l2(0.01)))\n",
    "model.add(Dense(64, activation='relu', kernel_regularizer=l2(0.01)))\n",
    "# model.add(Dropout(0.2))\n",
    "model.add(Dense(40, activation='softmax'))"
   ]
  },
  {
   "cell_type": "code",
   "execution_count": 92,
   "metadata": {},
   "outputs": [
    {
     "data": {
      "text/html": [
       "<pre style=\"white-space:pre;overflow-x:auto;line-height:normal;font-family:Menlo,'DejaVu Sans Mono',consolas,'Courier New',monospace\"><span style=\"font-weight: bold\">Model: \"sequential_7\"</span>\n",
       "</pre>\n"
      ],
      "text/plain": [
       "\u001b[1mModel: \"sequential_7\"\u001b[0m\n"
      ]
     },
     "metadata": {},
     "output_type": "display_data"
    },
    {
     "data": {
      "text/html": [
       "<pre style=\"white-space:pre;overflow-x:auto;line-height:normal;font-family:Menlo,'DejaVu Sans Mono',consolas,'Courier New',monospace\">┏━━━━━━━━━━━━━━━━━━━━━━━━━━━━━━━━━┳━━━━━━━━━━━━━━━━━━━━━━━━┳━━━━━━━━━━━━━━━┓\n",
       "┃<span style=\"font-weight: bold\"> Layer (type)                    </span>┃<span style=\"font-weight: bold\"> Output Shape           </span>┃<span style=\"font-weight: bold\">       Param # </span>┃\n",
       "┡━━━━━━━━━━━━━━━━━━━━━━━━━━━━━━━━━╇━━━━━━━━━━━━━━━━━━━━━━━━╇━━━━━━━━━━━━━━━┩\n",
       "│ dense_23 (<span style=\"color: #0087ff; text-decoration-color: #0087ff\">Dense</span>)                │ (<span style=\"color: #00d7ff; text-decoration-color: #00d7ff\">None</span>, <span style=\"color: #00af00; text-decoration-color: #00af00\">256</span>)            │        <span style=\"color: #00af00; text-decoration-color: #00af00\">12,288</span> │\n",
       "├─────────────────────────────────┼────────────────────────┼───────────────┤\n",
       "│ dense_24 (<span style=\"color: #0087ff; text-decoration-color: #0087ff\">Dense</span>)                │ (<span style=\"color: #00d7ff; text-decoration-color: #00d7ff\">None</span>, <span style=\"color: #00af00; text-decoration-color: #00af00\">128</span>)            │        <span style=\"color: #00af00; text-decoration-color: #00af00\">32,896</span> │\n",
       "├─────────────────────────────────┼────────────────────────┼───────────────┤\n",
       "│ dense_25 (<span style=\"color: #0087ff; text-decoration-color: #0087ff\">Dense</span>)                │ (<span style=\"color: #00d7ff; text-decoration-color: #00d7ff\">None</span>, <span style=\"color: #00af00; text-decoration-color: #00af00\">64</span>)             │         <span style=\"color: #00af00; text-decoration-color: #00af00\">8,256</span> │\n",
       "├─────────────────────────────────┼────────────────────────┼───────────────┤\n",
       "│ dense_26 (<span style=\"color: #0087ff; text-decoration-color: #0087ff\">Dense</span>)                │ (<span style=\"color: #00d7ff; text-decoration-color: #00d7ff\">None</span>, <span style=\"color: #00af00; text-decoration-color: #00af00\">40</span>)             │         <span style=\"color: #00af00; text-decoration-color: #00af00\">2,600</span> │\n",
       "└─────────────────────────────────┴────────────────────────┴───────────────┘\n",
       "</pre>\n"
      ],
      "text/plain": [
       "┏━━━━━━━━━━━━━━━━━━━━━━━━━━━━━━━━━┳━━━━━━━━━━━━━━━━━━━━━━━━┳━━━━━━━━━━━━━━━┓\n",
       "┃\u001b[1m \u001b[0m\u001b[1mLayer (type)                   \u001b[0m\u001b[1m \u001b[0m┃\u001b[1m \u001b[0m\u001b[1mOutput Shape          \u001b[0m\u001b[1m \u001b[0m┃\u001b[1m \u001b[0m\u001b[1m      Param #\u001b[0m\u001b[1m \u001b[0m┃\n",
       "┡━━━━━━━━━━━━━━━━━━━━━━━━━━━━━━━━━╇━━━━━━━━━━━━━━━━━━━━━━━━╇━━━━━━━━━━━━━━━┩\n",
       "│ dense_23 (\u001b[38;5;33mDense\u001b[0m)                │ (\u001b[38;5;45mNone\u001b[0m, \u001b[38;5;34m256\u001b[0m)            │        \u001b[38;5;34m12,288\u001b[0m │\n",
       "├─────────────────────────────────┼────────────────────────┼───────────────┤\n",
       "│ dense_24 (\u001b[38;5;33mDense\u001b[0m)                │ (\u001b[38;5;45mNone\u001b[0m, \u001b[38;5;34m128\u001b[0m)            │        \u001b[38;5;34m32,896\u001b[0m │\n",
       "├─────────────────────────────────┼────────────────────────┼───────────────┤\n",
       "│ dense_25 (\u001b[38;5;33mDense\u001b[0m)                │ (\u001b[38;5;45mNone\u001b[0m, \u001b[38;5;34m64\u001b[0m)             │         \u001b[38;5;34m8,256\u001b[0m │\n",
       "├─────────────────────────────────┼────────────────────────┼───────────────┤\n",
       "│ dense_26 (\u001b[38;5;33mDense\u001b[0m)                │ (\u001b[38;5;45mNone\u001b[0m, \u001b[38;5;34m40\u001b[0m)             │         \u001b[38;5;34m2,600\u001b[0m │\n",
       "└─────────────────────────────────┴────────────────────────┴───────────────┘\n"
      ]
     },
     "metadata": {},
     "output_type": "display_data"
    },
    {
     "data": {
      "text/html": [
       "<pre style=\"white-space:pre;overflow-x:auto;line-height:normal;font-family:Menlo,'DejaVu Sans Mono',consolas,'Courier New',monospace\"><span style=\"font-weight: bold\"> Total params: </span><span style=\"color: #00af00; text-decoration-color: #00af00\">56,040</span> (218.91 KB)\n",
       "</pre>\n"
      ],
      "text/plain": [
       "\u001b[1m Total params: \u001b[0m\u001b[38;5;34m56,040\u001b[0m (218.91 KB)\n"
      ]
     },
     "metadata": {},
     "output_type": "display_data"
    },
    {
     "data": {
      "text/html": [
       "<pre style=\"white-space:pre;overflow-x:auto;line-height:normal;font-family:Menlo,'DejaVu Sans Mono',consolas,'Courier New',monospace\"><span style=\"font-weight: bold\"> Trainable params: </span><span style=\"color: #00af00; text-decoration-color: #00af00\">56,040</span> (218.91 KB)\n",
       "</pre>\n"
      ],
      "text/plain": [
       "\u001b[1m Trainable params: \u001b[0m\u001b[38;5;34m56,040\u001b[0m (218.91 KB)\n"
      ]
     },
     "metadata": {},
     "output_type": "display_data"
    },
    {
     "data": {
      "text/html": [
       "<pre style=\"white-space:pre;overflow-x:auto;line-height:normal;font-family:Menlo,'DejaVu Sans Mono',consolas,'Courier New',monospace\"><span style=\"font-weight: bold\"> Non-trainable params: </span><span style=\"color: #00af00; text-decoration-color: #00af00\">0</span> (0.00 B)\n",
       "</pre>\n"
      ],
      "text/plain": [
       "\u001b[1m Non-trainable params: \u001b[0m\u001b[38;5;34m0\u001b[0m (0.00 B)\n"
      ]
     },
     "metadata": {},
     "output_type": "display_data"
    }
   ],
   "source": [
    "model.summary()"
   ]
  },
  {
   "cell_type": "code",
   "execution_count": 93,
   "metadata": {},
   "outputs": [],
   "source": [
    "model.compile(loss='sparse_categorical_crossentropy', optimizer='adam', metrics=['accuracy'])"
   ]
  },
  {
   "cell_type": "code",
   "execution_count": 94,
   "metadata": {},
   "outputs": [
    {
     "name": "stdout",
     "output_type": "stream",
     "text": [
      "Epoch 1/20\n"
     ]
    },
    {
     "name": "stdout",
     "output_type": "stream",
     "text": [
      "\u001b[1m125/125\u001b[0m \u001b[32m━━━━━━━━━━━━━━━━━━━━\u001b[0m\u001b[37m\u001b[0m \u001b[1m3s\u001b[0m 4ms/step - accuracy: 0.0251 - loss: 5.8726 - val_accuracy: 0.0260 - val_loss: 3.9884\n",
      "Epoch 2/20\n",
      "\u001b[1m125/125\u001b[0m \u001b[32m━━━━━━━━━━━━━━━━━━━━\u001b[0m\u001b[37m\u001b[0m \u001b[1m0s\u001b[0m 2ms/step - accuracy: 0.0267 - loss: 3.8611 - val_accuracy: 0.0300 - val_loss: 3.7053\n",
      "Epoch 3/20\n",
      "\u001b[1m125/125\u001b[0m \u001b[32m━━━━━━━━━━━━━━━━━━━━\u001b[0m\u001b[37m\u001b[0m \u001b[1m0s\u001b[0m 2ms/step - accuracy: 0.0289 - loss: 3.6972 - val_accuracy: 0.0300 - val_loss: 3.6904\n",
      "Epoch 4/20\n",
      "\u001b[1m125/125\u001b[0m \u001b[32m━━━━━━━━━━━━━━━━━━━━\u001b[0m\u001b[37m\u001b[0m \u001b[1m0s\u001b[0m 2ms/step - accuracy: 0.0288 - loss: 3.6876 - val_accuracy: 0.0300 - val_loss: 3.6899\n",
      "Epoch 5/20\n",
      "\u001b[1m125/125\u001b[0m \u001b[32m━━━━━━━━━━━━━━━━━━━━\u001b[0m\u001b[37m\u001b[0m \u001b[1m0s\u001b[0m 2ms/step - accuracy: 0.0363 - loss: 3.6866 - val_accuracy: 0.0300 - val_loss: 3.6904\n",
      "Epoch 6/20\n",
      "\u001b[1m125/125\u001b[0m \u001b[32m━━━━━━━━━━━━━━━━━━━━\u001b[0m\u001b[37m\u001b[0m \u001b[1m0s\u001b[0m 2ms/step - accuracy: 0.0292 - loss: 3.6868 - val_accuracy: 0.0300 - val_loss: 3.6908\n",
      "Epoch 7/20\n",
      "\u001b[1m125/125\u001b[0m \u001b[32m━━━━━━━━━━━━━━━━━━━━\u001b[0m\u001b[37m\u001b[0m \u001b[1m0s\u001b[0m 2ms/step - accuracy: 0.0292 - loss: 3.6872 - val_accuracy: 0.0300 - val_loss: 3.6911\n",
      "Epoch 8/20\n",
      "\u001b[1m125/125\u001b[0m \u001b[32m━━━━━━━━━━━━━━━━━━━━\u001b[0m\u001b[37m\u001b[0m \u001b[1m0s\u001b[0m 2ms/step - accuracy: 0.0299 - loss: 3.6865 - val_accuracy: 0.0230 - val_loss: 3.6912\n",
      "Epoch 9/20\n",
      "\u001b[1m125/125\u001b[0m \u001b[32m━━━━━━━━━━━━━━━━━━━━\u001b[0m\u001b[37m\u001b[0m \u001b[1m0s\u001b[0m 2ms/step - accuracy: 0.0290 - loss: 3.6865 - val_accuracy: 0.0230 - val_loss: 3.6917\n",
      "Epoch 10/20\n",
      "\u001b[1m125/125\u001b[0m \u001b[32m━━━━━━━━━━━━━━━━━━━━\u001b[0m\u001b[37m\u001b[0m \u001b[1m0s\u001b[0m 2ms/step - accuracy: 0.0282 - loss: 3.6872 - val_accuracy: 0.0230 - val_loss: 3.6914\n",
      "Epoch 11/20\n",
      "\u001b[1m125/125\u001b[0m \u001b[32m━━━━━━━━━━━━━━━━━━━━\u001b[0m\u001b[37m\u001b[0m \u001b[1m0s\u001b[0m 2ms/step - accuracy: 0.0258 - loss: 3.6861 - val_accuracy: 0.0230 - val_loss: 3.6918\n",
      "Epoch 12/20\n",
      "\u001b[1m125/125\u001b[0m \u001b[32m━━━━━━━━━━━━━━━━━━━━\u001b[0m\u001b[37m\u001b[0m \u001b[1m0s\u001b[0m 2ms/step - accuracy: 0.0337 - loss: 3.6850 - val_accuracy: 0.0230 - val_loss: 3.6917\n",
      "Epoch 13/20\n",
      "\u001b[1m125/125\u001b[0m \u001b[32m━━━━━━━━━━━━━━━━━━━━\u001b[0m\u001b[37m\u001b[0m \u001b[1m0s\u001b[0m 3ms/step - accuracy: 0.0284 - loss: 3.6880 - val_accuracy: 0.0230 - val_loss: 3.6919\n",
      "Epoch 14/20\n",
      "\u001b[1m125/125\u001b[0m \u001b[32m━━━━━━━━━━━━━━━━━━━━\u001b[0m\u001b[37m\u001b[0m \u001b[1m0s\u001b[0m 2ms/step - accuracy: 0.0254 - loss: 3.6886 - val_accuracy: 0.0230 - val_loss: 3.6919\n",
      "Epoch 15/20\n",
      "\u001b[1m125/125\u001b[0m \u001b[32m━━━━━━━━━━━━━━━━━━━━\u001b[0m\u001b[37m\u001b[0m \u001b[1m0s\u001b[0m 2ms/step - accuracy: 0.0303 - loss: 3.6871 - val_accuracy: 0.0230 - val_loss: 3.6922\n",
      "Epoch 16/20\n",
      "\u001b[1m125/125\u001b[0m \u001b[32m━━━━━━━━━━━━━━━━━━━━\u001b[0m\u001b[37m\u001b[0m \u001b[1m0s\u001b[0m 2ms/step - accuracy: 0.0298 - loss: 3.6862 - val_accuracy: 0.0230 - val_loss: 3.6919\n",
      "Epoch 17/20\n",
      "\u001b[1m125/125\u001b[0m \u001b[32m━━━━━━━━━━━━━━━━━━━━\u001b[0m\u001b[37m\u001b[0m \u001b[1m0s\u001b[0m 2ms/step - accuracy: 0.0328 - loss: 3.6842 - val_accuracy: 0.0230 - val_loss: 3.6918\n",
      "Epoch 18/20\n",
      "\u001b[1m125/125\u001b[0m \u001b[32m━━━━━━━━━━━━━━━━━━━━\u001b[0m\u001b[37m\u001b[0m \u001b[1m0s\u001b[0m 2ms/step - accuracy: 0.0322 - loss: 3.6867 - val_accuracy: 0.0230 - val_loss: 3.6920\n",
      "Epoch 19/20\n",
      "\u001b[1m125/125\u001b[0m \u001b[32m━━━━━━━━━━━━━━━━━━━━\u001b[0m\u001b[37m\u001b[0m \u001b[1m0s\u001b[0m 2ms/step - accuracy: 0.0288 - loss: 3.6861 - val_accuracy: 0.0230 - val_loss: 3.6919\n",
      "Epoch 20/20\n",
      "\u001b[1m125/125\u001b[0m \u001b[32m━━━━━━━━━━━━━━━━━━━━\u001b[0m\u001b[37m\u001b[0m \u001b[1m0s\u001b[0m 2ms/step - accuracy: 0.0308 - loss: 3.6866 - val_accuracy: 0.0230 - val_loss: 3.6921\n"
     ]
    },
    {
     "data": {
      "text/plain": [
       "<keras.src.callbacks.history.History at 0x15da4903110>"
      ]
     },
     "execution_count": 94,
     "metadata": {},
     "output_type": "execute_result"
    }
   ],
   "source": [
    "model.fit(\n",
    "    X_train_trf, \n",
    "    y_train_trf,\n",
    "    validation_data=(X_test_trf, y_test_trf),\n",
    "    epochs=20\n",
    ")"
   ]
  },
  {
   "cell_type": "code",
   "execution_count": 98,
   "metadata": {},
   "outputs": [
    {
     "data": {
      "text/html": [
       "<div>\n",
       "<style scoped>\n",
       "    .dataframe tbody tr th:only-of-type {\n",
       "        vertical-align: middle;\n",
       "    }\n",
       "\n",
       "    .dataframe tbody tr th {\n",
       "        vertical-align: top;\n",
       "    }\n",
       "\n",
       "    .dataframe thead th {\n",
       "        text-align: right;\n",
       "    }\n",
       "</style>\n",
       "<table border=\"1\" class=\"dataframe\">\n",
       "  <thead>\n",
       "    <tr style=\"text-align: right;\">\n",
       "      <th></th>\n",
       "      <th>Interest</th>\n",
       "      <th>Skill_Level</th>\n",
       "      <th>Work_Style</th>\n",
       "      <th>Education</th>\n",
       "      <th>Personality</th>\n",
       "      <th>Problem_Solving</th>\n",
       "      <th>Tech</th>\n",
       "      <th>Communication</th>\n",
       "      <th>Leadership</th>\n",
       "      <th>Creativity</th>\n",
       "    </tr>\n",
       "  </thead>\n",
       "  <tbody>\n",
       "    <tr>\n",
       "      <th>2891</th>\n",
       "      <td>medicine</td>\n",
       "      <td>expert</td>\n",
       "      <td>office</td>\n",
       "      <td>masters</td>\n",
       "      <td>doer</td>\n",
       "      <td>logical</td>\n",
       "      <td>low</td>\n",
       "      <td>poor</td>\n",
       "      <td>collaborative</td>\n",
       "      <td>low</td>\n",
       "    </tr>\n",
       "    <tr>\n",
       "      <th>493</th>\n",
       "      <td>business</td>\n",
       "      <td>advanced</td>\n",
       "      <td>team</td>\n",
       "      <td>high school</td>\n",
       "      <td>doer</td>\n",
       "      <td>creative</td>\n",
       "      <td>medium</td>\n",
       "      <td>fluent</td>\n",
       "      <td>collaborative</td>\n",
       "      <td>high</td>\n",
       "    </tr>\n",
       "    <tr>\n",
       "      <th>670</th>\n",
       "      <td>science</td>\n",
       "      <td>beginner</td>\n",
       "      <td>office</td>\n",
       "      <td>high school</td>\n",
       "      <td>leader</td>\n",
       "      <td>creative</td>\n",
       "      <td>medium</td>\n",
       "      <td>poor</td>\n",
       "      <td>moderate</td>\n",
       "      <td>low</td>\n",
       "    </tr>\n",
       "    <tr>\n",
       "      <th>3610</th>\n",
       "      <td>technology</td>\n",
       "      <td>advanced</td>\n",
       "      <td>remote</td>\n",
       "      <td>phd</td>\n",
       "      <td>thinker</td>\n",
       "      <td>practical</td>\n",
       "      <td>high</td>\n",
       "      <td>outstanding</td>\n",
       "      <td>visionary</td>\n",
       "      <td>exceptional</td>\n",
       "    </tr>\n",
       "    <tr>\n",
       "      <th>4773</th>\n",
       "      <td>medicine</td>\n",
       "      <td>beginner</td>\n",
       "      <td>solo</td>\n",
       "      <td>phd</td>\n",
       "      <td>extrovert</td>\n",
       "      <td>logical</td>\n",
       "      <td>low</td>\n",
       "      <td>poor</td>\n",
       "      <td>collaborative</td>\n",
       "      <td>low</td>\n",
       "    </tr>\n",
       "    <tr>\n",
       "      <th>...</th>\n",
       "      <td>...</td>\n",
       "      <td>...</td>\n",
       "      <td>...</td>\n",
       "      <td>...</td>\n",
       "      <td>...</td>\n",
       "      <td>...</td>\n",
       "      <td>...</td>\n",
       "      <td>...</td>\n",
       "      <td>...</td>\n",
       "      <td>...</td>\n",
       "    </tr>\n",
       "    <tr>\n",
       "      <th>1129</th>\n",
       "      <td>art</td>\n",
       "      <td>beginner</td>\n",
       "      <td>solo</td>\n",
       "      <td>high school</td>\n",
       "      <td>leader</td>\n",
       "      <td>logical</td>\n",
       "      <td>high</td>\n",
       "      <td>outstanding</td>\n",
       "      <td>visionary</td>\n",
       "      <td>very high</td>\n",
       "    </tr>\n",
       "    <tr>\n",
       "      <th>2894</th>\n",
       "      <td>science</td>\n",
       "      <td>advanced</td>\n",
       "      <td>solo</td>\n",
       "      <td>diploma</td>\n",
       "      <td>introvert</td>\n",
       "      <td>creative</td>\n",
       "      <td>low</td>\n",
       "      <td>poor</td>\n",
       "      <td>collaborative</td>\n",
       "      <td>low</td>\n",
       "    </tr>\n",
       "    <tr>\n",
       "      <th>138</th>\n",
       "      <td>business</td>\n",
       "      <td>intermediate</td>\n",
       "      <td>solo</td>\n",
       "      <td>diploma</td>\n",
       "      <td>leader</td>\n",
       "      <td>practical</td>\n",
       "      <td>medium</td>\n",
       "      <td>fluent</td>\n",
       "      <td>strong</td>\n",
       "      <td>exceptional</td>\n",
       "    </tr>\n",
       "    <tr>\n",
       "      <th>592</th>\n",
       "      <td>medicine</td>\n",
       "      <td>expert</td>\n",
       "      <td>team</td>\n",
       "      <td>bachelors</td>\n",
       "      <td>thinker</td>\n",
       "      <td>analytical</td>\n",
       "      <td>medium</td>\n",
       "      <td>excellent</td>\n",
       "      <td>collaborative</td>\n",
       "      <td>exceptional</td>\n",
       "    </tr>\n",
       "    <tr>\n",
       "      <th>3517</th>\n",
       "      <td>art</td>\n",
       "      <td>beginner</td>\n",
       "      <td>team</td>\n",
       "      <td>bachelors</td>\n",
       "      <td>introvert</td>\n",
       "      <td>logical</td>\n",
       "      <td>medium</td>\n",
       "      <td>poor</td>\n",
       "      <td>strong</td>\n",
       "      <td>medium</td>\n",
       "    </tr>\n",
       "  </tbody>\n",
       "</table>\n",
       "<p>1000 rows × 10 columns</p>\n",
       "</div>"
      ],
      "text/plain": [
       "        Interest   Skill_Level Work_Style    Education Personality  \\\n",
       "2891    medicine        expert     office      masters        doer   \n",
       "493     business      advanced       team  high school        doer   \n",
       "670      science      beginner     office  high school      leader   \n",
       "3610  technology      advanced     remote          phd     thinker   \n",
       "4773    medicine      beginner       solo          phd   extrovert   \n",
       "...          ...           ...        ...          ...         ...   \n",
       "1129         art      beginner       solo  high school      leader   \n",
       "2894     science      advanced       solo      diploma   introvert   \n",
       "138     business  intermediate       solo      diploma      leader   \n",
       "592     medicine        expert       team    bachelors     thinker   \n",
       "3517         art      beginner       team    bachelors   introvert   \n",
       "\n",
       "     Problem_Solving    Tech Communication     Leadership   Creativity  \n",
       "2891         logical     low          poor  collaborative          low  \n",
       "493         creative  medium        fluent  collaborative         high  \n",
       "670         creative  medium          poor       moderate          low  \n",
       "3610       practical    high   outstanding      visionary  exceptional  \n",
       "4773         logical     low          poor  collaborative          low  \n",
       "...              ...     ...           ...            ...          ...  \n",
       "1129         logical    high   outstanding      visionary    very high  \n",
       "2894        creative     low          poor  collaborative          low  \n",
       "138        practical  medium        fluent         strong  exceptional  \n",
       "592       analytical  medium     excellent  collaborative  exceptional  \n",
       "3517         logical  medium          poor         strong       medium  \n",
       "\n",
       "[1000 rows x 10 columns]"
      ]
     },
     "execution_count": 98,
     "metadata": {},
     "output_type": "execute_result"
    }
   ],
   "source": [
    "X_test"
   ]
  },
  {
   "cell_type": "code",
   "execution_count": 156,
   "metadata": {},
   "outputs": [],
   "source": [
    "input_qurie = list(X_test.loc[2894])"
   ]
  },
  {
   "cell_type": "code",
   "execution_count": 157,
   "metadata": {},
   "outputs": [],
   "source": [
    "import numpy as np\n",
    "\n",
    "input_qurie = pd.DataFrame(np.array([input_qurie]), columns=columns)"
   ]
  },
  {
   "cell_type": "code",
   "execution_count": 158,
   "metadata": {},
   "outputs": [
    {
     "data": {
      "text/html": [
       "<div>\n",
       "<style scoped>\n",
       "    .dataframe tbody tr th:only-of-type {\n",
       "        vertical-align: middle;\n",
       "    }\n",
       "\n",
       "    .dataframe tbody tr th {\n",
       "        vertical-align: top;\n",
       "    }\n",
       "\n",
       "    .dataframe thead th {\n",
       "        text-align: right;\n",
       "    }\n",
       "</style>\n",
       "<table border=\"1\" class=\"dataframe\">\n",
       "  <thead>\n",
       "    <tr style=\"text-align: right;\">\n",
       "      <th></th>\n",
       "      <th>Interest</th>\n",
       "      <th>Skill_Level</th>\n",
       "      <th>Work_Style</th>\n",
       "      <th>Education</th>\n",
       "      <th>Personality</th>\n",
       "      <th>Problem_Solving</th>\n",
       "      <th>Tech</th>\n",
       "      <th>Communication</th>\n",
       "      <th>Leadership</th>\n",
       "      <th>Creativity</th>\n",
       "    </tr>\n",
       "  </thead>\n",
       "  <tbody>\n",
       "    <tr>\n",
       "      <th>0</th>\n",
       "      <td>science</td>\n",
       "      <td>advanced</td>\n",
       "      <td>solo</td>\n",
       "      <td>diploma</td>\n",
       "      <td>introvert</td>\n",
       "      <td>creative</td>\n",
       "      <td>low</td>\n",
       "      <td>poor</td>\n",
       "      <td>collaborative</td>\n",
       "      <td>low</td>\n",
       "    </tr>\n",
       "  </tbody>\n",
       "</table>\n",
       "</div>"
      ],
      "text/plain": [
       "  Interest Skill_Level Work_Style Education Personality Problem_Solving Tech  \\\n",
       "0  science    advanced       solo   diploma   introvert        creative  low   \n",
       "\n",
       "  Communication     Leadership Creativity  \n",
       "0          poor  collaborative        low  "
      ]
     },
     "execution_count": 158,
     "metadata": {},
     "output_type": "execute_result"
    }
   ],
   "source": [
    "input_qurie"
   ]
  },
  {
   "cell_type": "code",
   "execution_count": 159,
   "metadata": {},
   "outputs": [],
   "source": [
    "prediction_input = np.array([preprocessor.transform(input_qurie)[0]])"
   ]
  },
  {
   "cell_type": "code",
   "execution_count": 160,
   "metadata": {},
   "outputs": [
    {
     "data": {
      "text/plain": [
       "array([[0., 0., 0., 1., 0., 1., 0., 0., 0., 0., 0., 0., 1., 0., 0., 1.,\n",
       "        0., 0., 0., 0., 0., 1., 0., 0., 0., 1., 0., 0., 0., 0., 1., 0.,\n",
       "        0., 0., 0., 0., 0., 1., 1., 0., 0., 0., 0., 0., 1., 0., 0.]])"
      ]
     },
     "execution_count": 160,
     "metadata": {},
     "output_type": "execute_result"
    }
   ],
   "source": [
    "prediction_input"
   ]
  },
  {
   "cell_type": "code",
   "execution_count": 161,
   "metadata": {},
   "outputs": [
    {
     "name": "stdout",
     "output_type": "stream",
     "text": [
      "\u001b[1m1/1\u001b[0m \u001b[32m━━━━━━━━━━━━━━━━━━━━\u001b[0m\u001b[37m\u001b[0m \u001b[1m0s\u001b[0m 34ms/step\n"
     ]
    }
   ],
   "source": [
    "prediction = model.predict(prediction_input)"
   ]
  },
  {
   "cell_type": "code",
   "execution_count": 162,
   "metadata": {},
   "outputs": [
    {
     "data": {
      "text/plain": [
       "array([[0.02396186, 0.02263361, 0.0234366 , 0.0231523 , 0.02599659,\n",
       "        0.02623536, 0.02284913, 0.02545882, 0.02301746, 0.02569979,\n",
       "        0.02785396, 0.02876105, 0.02372194, 0.02597085, 0.02383758,\n",
       "        0.0267227 , 0.0255262 , 0.02420458, 0.02856317, 0.0243386 ,\n",
       "        0.02598333, 0.02588741, 0.02683465, 0.02321241, 0.02278556,\n",
       "        0.02470937, 0.0265565 , 0.02340666, 0.02365896, 0.02555453,\n",
       "        0.0216676 , 0.02251566, 0.02678259, 0.02429385, 0.0263499 ,\n",
       "        0.02456799, 0.02657984, 0.0277435 , 0.02301442, 0.02595302]],\n",
       "      dtype=float32)"
      ]
     },
     "execution_count": 162,
     "metadata": {},
     "output_type": "execute_result"
    }
   ],
   "source": [
    "prediction"
   ]
  },
  {
   "cell_type": "code",
   "execution_count": 163,
   "metadata": {},
   "outputs": [
    {
     "data": {
      "text/plain": [
       "11"
      ]
     },
     "execution_count": 163,
     "metadata": {},
     "output_type": "execute_result"
    }
   ],
   "source": [
    "np.argmax(prediction, axis=1)[0]"
   ]
  },
  {
   "cell_type": "code",
   "execution_count": 164,
   "metadata": {},
   "outputs": [
    {
     "data": {
      "text/plain": [
       "'data analyst'"
      ]
     },
     "execution_count": 164,
     "metadata": {},
     "output_type": "execute_result"
    }
   ],
   "source": [
    "le.classes_[np.argmax(prediction, axis=1)[0]]"
   ]
  },
  {
   "cell_type": "code",
   "execution_count": null,
   "metadata": {},
   "outputs": [],
   "source": []
  }
 ],
 "metadata": {
  "kernelspec": {
   "display_name": "Python 3",
   "language": "python",
   "name": "python3"
  },
  "language_info": {
   "codemirror_mode": {
    "name": "ipython",
    "version": 3
   },
   "file_extension": ".py",
   "mimetype": "text/x-python",
   "name": "python",
   "nbconvert_exporter": "python",
   "pygments_lexer": "ipython3",
   "version": "3.12.6"
  }
 },
 "nbformat": 4,
 "nbformat_minor": 2
}
