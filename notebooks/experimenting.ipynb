{
 "cells": [
  {
   "cell_type": "code",
   "execution_count": 8,
   "metadata": {},
   "outputs": [
    {
     "name": "stdout",
     "output_type": "stream",
     "text": [
      "exist\n"
     ]
    }
   ],
   "source": [
    "import os\n",
    "\n",
    "if os.path.exists(r'data\\new_career_dataset.csv'):\n",
    "    print('exist')"
   ]
  },
  {
   "cell_type": "code",
   "execution_count": 10,
   "metadata": {},
   "outputs": [
    {
     "data": {
      "text/html": [
       "<div>\n",
       "<style scoped>\n",
       "    .dataframe tbody tr th:only-of-type {\n",
       "        vertical-align: middle;\n",
       "    }\n",
       "\n",
       "    .dataframe tbody tr th {\n",
       "        vertical-align: top;\n",
       "    }\n",
       "\n",
       "    .dataframe thead th {\n",
       "        text-align: right;\n",
       "    }\n",
       "</style>\n",
       "<table border=\"1\" class=\"dataframe\">\n",
       "  <thead>\n",
       "    <tr style=\"text-align: right;\">\n",
       "      <th></th>\n",
       "      <th>Interest</th>\n",
       "      <th>Skill_Level</th>\n",
       "      <th>Work_Style</th>\n",
       "      <th>Education</th>\n",
       "      <th>Personality</th>\n",
       "      <th>Problem_Solving</th>\n",
       "      <th>Tech</th>\n",
       "      <th>Communication</th>\n",
       "      <th>Leadership</th>\n",
       "      <th>Creativity</th>\n",
       "      <th>Career</th>\n",
       "    </tr>\n",
       "  </thead>\n",
       "  <tbody>\n",
       "    <tr>\n",
       "      <th>0</th>\n",
       "      <td>art</td>\n",
       "      <td>expert</td>\n",
       "      <td>flexible</td>\n",
       "      <td>masters</td>\n",
       "      <td>thinker</td>\n",
       "      <td>creative</td>\n",
       "      <td>very high</td>\n",
       "      <td>excellent</td>\n",
       "      <td>strong</td>\n",
       "      <td>medium</td>\n",
       "      <td>business analyst</td>\n",
       "    </tr>\n",
       "    <tr>\n",
       "      <th>1</th>\n",
       "      <td>technology</td>\n",
       "      <td>advanced</td>\n",
       "      <td>flexible</td>\n",
       "      <td>phd</td>\n",
       "      <td>thinker</td>\n",
       "      <td>logical</td>\n",
       "      <td>high</td>\n",
       "      <td>poor</td>\n",
       "      <td>moderate</td>\n",
       "      <td>very high</td>\n",
       "      <td>site reliability engineer</td>\n",
       "    </tr>\n",
       "    <tr>\n",
       "      <th>2</th>\n",
       "      <td>art</td>\n",
       "      <td>intermediate</td>\n",
       "      <td>team</td>\n",
       "      <td>phd</td>\n",
       "      <td>extrovert</td>\n",
       "      <td>intuitive</td>\n",
       "      <td>high</td>\n",
       "      <td>excellent</td>\n",
       "      <td>collaborative</td>\n",
       "      <td>low</td>\n",
       "      <td>financial analyst</td>\n",
       "    </tr>\n",
       "    <tr>\n",
       "      <th>3</th>\n",
       "      <td>business</td>\n",
       "      <td>expert</td>\n",
       "      <td>remote</td>\n",
       "      <td>diploma</td>\n",
       "      <td>extrovert</td>\n",
       "      <td>intuitive</td>\n",
       "      <td>high</td>\n",
       "      <td>fluent</td>\n",
       "      <td>collaborative</td>\n",
       "      <td>high</td>\n",
       "      <td>speech recognition specialist</td>\n",
       "    </tr>\n",
       "    <tr>\n",
       "      <th>4</th>\n",
       "      <td>technology</td>\n",
       "      <td>expert</td>\n",
       "      <td>solo</td>\n",
       "      <td>bachelors</td>\n",
       "      <td>thinker</td>\n",
       "      <td>creative</td>\n",
       "      <td>very high</td>\n",
       "      <td>excellent</td>\n",
       "      <td>visionary</td>\n",
       "      <td>medium</td>\n",
       "      <td>game developer</td>\n",
       "    </tr>\n",
       "  </tbody>\n",
       "</table>\n",
       "</div>"
      ],
      "text/plain": [
       "     Interest   Skill_Level Work_Style  Education Personality Problem_Solving  \\\n",
       "0         art        expert   flexible    masters     thinker        creative   \n",
       "1  technology      advanced   flexible        phd     thinker         logical   \n",
       "2         art  intermediate       team        phd   extrovert       intuitive   \n",
       "3    business        expert     remote    diploma   extrovert       intuitive   \n",
       "4  technology        expert       solo  bachelors     thinker        creative   \n",
       "\n",
       "        Tech Communication     Leadership Creativity  \\\n",
       "0  very high     excellent         strong     medium   \n",
       "1       high          poor       moderate  very high   \n",
       "2       high     excellent  collaborative        low   \n",
       "3       high        fluent  collaborative       high   \n",
       "4  very high     excellent      visionary     medium   \n",
       "\n",
       "                          Career  \n",
       "0               business analyst  \n",
       "1      site reliability engineer  \n",
       "2              financial analyst  \n",
       "3  speech recognition specialist  \n",
       "4                 game developer  "
      ]
     },
     "execution_count": 10,
     "metadata": {},
     "output_type": "execute_result"
    }
   ],
   "source": [
    "from dataclasses import dataclass\n",
    "import pandas as pd\n",
    "\n",
    "@dataclass\n",
    "class DataPath:\n",
    "    data_path: str = r'data\\new_career_dataset.csv'\n",
    "    artifact_data_path = r'artifacts/data.csv'\n",
    "\n",
    "paths = DataPath()\n",
    "\n",
    "df = pd.read_csv(paths.data_path)\n",
    "df.head()"
   ]
  },
  {
   "cell_type": "code",
   "execution_count": 11,
   "metadata": {},
   "outputs": [],
   "source": [
    "from sklearn.preprocessing import OneHotEncoder, LabelEncoder\n",
    "from sklearn.compose import ColumnTransformer\n",
    "from sklearn.pipeline import Pipeline\n",
    "from sklearn.model_selection import train_test_split"
   ]
  },
  {
   "cell_type": "code",
   "execution_count": 12,
   "metadata": {},
   "outputs": [],
   "source": [
    "X = df.drop(['Career'], axis=1)\n",
    "y = df['Career']"
   ]
  },
  {
   "cell_type": "code",
   "execution_count": 13,
   "metadata": {},
   "outputs": [],
   "source": [
    "columns = X.columns"
   ]
  },
  {
   "cell_type": "code",
   "execution_count": 14,
   "metadata": {},
   "outputs": [],
   "source": [
    "X_train, X_test, y_train, y_test = train_test_split(X, y, test_size=0.2)"
   ]
  },
  {
   "cell_type": "code",
   "execution_count": 15,
   "metadata": {},
   "outputs": [],
   "source": [
    "preprocessor = ColumnTransformer([\n",
    "    ('OHE', OneHotEncoder(sparse_output=False), columns)\n",
    "], remainder='passthrough')"
   ]
  },
  {
   "cell_type": "code",
   "execution_count": 16,
   "metadata": {},
   "outputs": [],
   "source": [
    "X_train_trf = preprocessor.fit_transform(X_train)\n",
    "X_test_trf = preprocessor.transform(X_test)"
   ]
  },
  {
   "cell_type": "code",
   "execution_count": 17,
   "metadata": {},
   "outputs": [],
   "source": [
    "le = LabelEncoder()\n",
    "\n",
    "y_train_trf = le.fit_transform(y_train)\n",
    "y_test_trf = le.transform(y_test)"
   ]
  },
  {
   "cell_type": "code",
   "execution_count": 18,
   "metadata": {},
   "outputs": [],
   "source": [
    "from sklearn.model_selection import train_test_split\n",
    "\n",
    "train, test = train_test_split(df, test_size=0.2)"
   ]
  },
  {
   "cell_type": "code",
   "execution_count": 19,
   "metadata": {},
   "outputs": [
    {
     "data": {
      "text/plain": [
       "(1000, 11)"
      ]
     },
     "execution_count": 19,
     "metadata": {},
     "output_type": "execute_result"
    }
   ],
   "source": [
    "test.shape"
   ]
  },
  {
   "cell_type": "code",
   "execution_count": 20,
   "metadata": {},
   "outputs": [
    {
     "data": {
      "text/html": [
       "<div>\n",
       "<style scoped>\n",
       "    .dataframe tbody tr th:only-of-type {\n",
       "        vertical-align: middle;\n",
       "    }\n",
       "\n",
       "    .dataframe tbody tr th {\n",
       "        vertical-align: top;\n",
       "    }\n",
       "\n",
       "    .dataframe thead th {\n",
       "        text-align: right;\n",
       "    }\n",
       "</style>\n",
       "<table border=\"1\" class=\"dataframe\">\n",
       "  <thead>\n",
       "    <tr style=\"text-align: right;\">\n",
       "      <th></th>\n",
       "      <th>Interest</th>\n",
       "      <th>Skill_Level</th>\n",
       "      <th>Work_Style</th>\n",
       "      <th>Education</th>\n",
       "      <th>Personality</th>\n",
       "      <th>Problem_Solving</th>\n",
       "      <th>Tech</th>\n",
       "      <th>Communication</th>\n",
       "      <th>Leadership</th>\n",
       "      <th>Creativity</th>\n",
       "      <th>Career</th>\n",
       "    </tr>\n",
       "  </thead>\n",
       "  <tbody>\n",
       "    <tr>\n",
       "      <th>0</th>\n",
       "      <td>art</td>\n",
       "      <td>expert</td>\n",
       "      <td>flexible</td>\n",
       "      <td>masters</td>\n",
       "      <td>thinker</td>\n",
       "      <td>creative</td>\n",
       "      <td>very high</td>\n",
       "      <td>excellent</td>\n",
       "      <td>strong</td>\n",
       "      <td>medium</td>\n",
       "      <td>business analyst</td>\n",
       "    </tr>\n",
       "    <tr>\n",
       "      <th>1</th>\n",
       "      <td>technology</td>\n",
       "      <td>advanced</td>\n",
       "      <td>flexible</td>\n",
       "      <td>phd</td>\n",
       "      <td>thinker</td>\n",
       "      <td>logical</td>\n",
       "      <td>high</td>\n",
       "      <td>poor</td>\n",
       "      <td>moderate</td>\n",
       "      <td>very high</td>\n",
       "      <td>site reliability engineer</td>\n",
       "    </tr>\n",
       "    <tr>\n",
       "      <th>2</th>\n",
       "      <td>art</td>\n",
       "      <td>intermediate</td>\n",
       "      <td>team</td>\n",
       "      <td>phd</td>\n",
       "      <td>extrovert</td>\n",
       "      <td>intuitive</td>\n",
       "      <td>high</td>\n",
       "      <td>excellent</td>\n",
       "      <td>collaborative</td>\n",
       "      <td>low</td>\n",
       "      <td>financial analyst</td>\n",
       "    </tr>\n",
       "    <tr>\n",
       "      <th>3</th>\n",
       "      <td>business</td>\n",
       "      <td>expert</td>\n",
       "      <td>remote</td>\n",
       "      <td>diploma</td>\n",
       "      <td>extrovert</td>\n",
       "      <td>intuitive</td>\n",
       "      <td>high</td>\n",
       "      <td>fluent</td>\n",
       "      <td>collaborative</td>\n",
       "      <td>high</td>\n",
       "      <td>speech recognition specialist</td>\n",
       "    </tr>\n",
       "    <tr>\n",
       "      <th>4</th>\n",
       "      <td>technology</td>\n",
       "      <td>expert</td>\n",
       "      <td>solo</td>\n",
       "      <td>bachelors</td>\n",
       "      <td>thinker</td>\n",
       "      <td>creative</td>\n",
       "      <td>very high</td>\n",
       "      <td>excellent</td>\n",
       "      <td>visionary</td>\n",
       "      <td>medium</td>\n",
       "      <td>game developer</td>\n",
       "    </tr>\n",
       "    <tr>\n",
       "      <th>...</th>\n",
       "      <td>...</td>\n",
       "      <td>...</td>\n",
       "      <td>...</td>\n",
       "      <td>...</td>\n",
       "      <td>...</td>\n",
       "      <td>...</td>\n",
       "      <td>...</td>\n",
       "      <td>...</td>\n",
       "      <td>...</td>\n",
       "      <td>...</td>\n",
       "      <td>...</td>\n",
       "    </tr>\n",
       "    <tr>\n",
       "      <th>4995</th>\n",
       "      <td>technology</td>\n",
       "      <td>advanced</td>\n",
       "      <td>solo</td>\n",
       "      <td>bachelors</td>\n",
       "      <td>thinker</td>\n",
       "      <td>intuitive</td>\n",
       "      <td>very high</td>\n",
       "      <td>fluent</td>\n",
       "      <td>collaborative</td>\n",
       "      <td>low</td>\n",
       "      <td>web developer</td>\n",
       "    </tr>\n",
       "    <tr>\n",
       "      <th>4996</th>\n",
       "      <td>science</td>\n",
       "      <td>intermediate</td>\n",
       "      <td>flexible</td>\n",
       "      <td>high school</td>\n",
       "      <td>extrovert</td>\n",
       "      <td>logical</td>\n",
       "      <td>medium</td>\n",
       "      <td>poor</td>\n",
       "      <td>collaborative</td>\n",
       "      <td>medium</td>\n",
       "      <td>automation engineer</td>\n",
       "    </tr>\n",
       "    <tr>\n",
       "      <th>4997</th>\n",
       "      <td>art</td>\n",
       "      <td>advanced</td>\n",
       "      <td>flexible</td>\n",
       "      <td>diploma</td>\n",
       "      <td>introvert</td>\n",
       "      <td>intuitive</td>\n",
       "      <td>very high</td>\n",
       "      <td>poor</td>\n",
       "      <td>visionary</td>\n",
       "      <td>high</td>\n",
       "      <td>technical writer</td>\n",
       "    </tr>\n",
       "    <tr>\n",
       "      <th>4998</th>\n",
       "      <td>medicine</td>\n",
       "      <td>intermediate</td>\n",
       "      <td>team</td>\n",
       "      <td>masters</td>\n",
       "      <td>doer</td>\n",
       "      <td>creative</td>\n",
       "      <td>very high</td>\n",
       "      <td>poor</td>\n",
       "      <td>moderate</td>\n",
       "      <td>high</td>\n",
       "      <td>iot specialist</td>\n",
       "    </tr>\n",
       "    <tr>\n",
       "      <th>4999</th>\n",
       "      <td>medicine</td>\n",
       "      <td>advanced</td>\n",
       "      <td>flexible</td>\n",
       "      <td>diploma</td>\n",
       "      <td>extrovert</td>\n",
       "      <td>analytical</td>\n",
       "      <td>high</td>\n",
       "      <td>outstanding</td>\n",
       "      <td>visionary</td>\n",
       "      <td>exceptional</td>\n",
       "      <td>computer vision engineer</td>\n",
       "    </tr>\n",
       "  </tbody>\n",
       "</table>\n",
       "<p>5000 rows × 11 columns</p>\n",
       "</div>"
      ],
      "text/plain": [
       "        Interest   Skill_Level Work_Style    Education Personality  \\\n",
       "0            art        expert   flexible      masters     thinker   \n",
       "1     technology      advanced   flexible          phd     thinker   \n",
       "2            art  intermediate       team          phd   extrovert   \n",
       "3       business        expert     remote      diploma   extrovert   \n",
       "4     technology        expert       solo    bachelors     thinker   \n",
       "...          ...           ...        ...          ...         ...   \n",
       "4995  technology      advanced       solo    bachelors     thinker   \n",
       "4996     science  intermediate   flexible  high school   extrovert   \n",
       "4997         art      advanced   flexible      diploma   introvert   \n",
       "4998    medicine  intermediate       team      masters        doer   \n",
       "4999    medicine      advanced   flexible      diploma   extrovert   \n",
       "\n",
       "     Problem_Solving       Tech Communication     Leadership   Creativity  \\\n",
       "0           creative  very high     excellent         strong       medium   \n",
       "1            logical       high          poor       moderate    very high   \n",
       "2          intuitive       high     excellent  collaborative          low   \n",
       "3          intuitive       high        fluent  collaborative         high   \n",
       "4           creative  very high     excellent      visionary       medium   \n",
       "...              ...        ...           ...            ...          ...   \n",
       "4995       intuitive  very high        fluent  collaborative          low   \n",
       "4996         logical     medium          poor  collaborative       medium   \n",
       "4997       intuitive  very high          poor      visionary         high   \n",
       "4998        creative  very high          poor       moderate         high   \n",
       "4999      analytical       high   outstanding      visionary  exceptional   \n",
       "\n",
       "                             Career  \n",
       "0                  business analyst  \n",
       "1         site reliability engineer  \n",
       "2                 financial analyst  \n",
       "3     speech recognition specialist  \n",
       "4                    game developer  \n",
       "...                             ...  \n",
       "4995                  web developer  \n",
       "4996            automation engineer  \n",
       "4997               technical writer  \n",
       "4998                 iot specialist  \n",
       "4999       computer vision engineer  \n",
       "\n",
       "[5000 rows x 11 columns]"
      ]
     },
     "execution_count": 20,
     "metadata": {},
     "output_type": "execute_result"
    }
   ],
   "source": [
    "df"
   ]
  },
  {
   "cell_type": "code",
   "execution_count": 21,
   "metadata": {},
   "outputs": [
    {
     "data": {
      "text/plain": [
       "(array([[0., 0., 0., ..., 0., 1., 0.],\n",
       "        [0., 1., 0., ..., 0., 0., 0.],\n",
       "        [0., 1., 0., ..., 0., 0., 1.],\n",
       "        ...,\n",
       "        [0., 0., 0., ..., 0., 1., 0.],\n",
       "        [0., 1., 0., ..., 0., 0., 0.],\n",
       "        [0., 1., 0., ..., 0., 0., 0.]]),\n",
       " array([[0., 0., 0., ..., 0., 0., 1.],\n",
       "        [0., 1., 0., ..., 0., 0., 1.],\n",
       "        [1., 0., 0., ..., 0., 0., 1.],\n",
       "        ...,\n",
       "        [1., 0., 0., ..., 0., 0., 1.],\n",
       "        [0., 0., 1., ..., 0., 1., 0.],\n",
       "        [0., 0., 0., ..., 0., 1., 0.]]),\n",
       " array([20, 16,  0, ..., 15, 37, 12]),\n",
       " array([39, 22, 18, 20, 14, 14,  6,  0, 10, 33, 26, 35, 35, 18, 19, 39, 32,\n",
       "        31,  4, 34, 20, 36,  7, 19, 39, 10,  0, 23,  5,  3, 14, 34, 18, 33,\n",
       "        13, 31, 36, 12,  0, 25, 33, 12,  0, 28, 34, 35, 28, 34,  5, 34, 16,\n",
       "        36, 29, 33, 14, 26, 29, 38, 14, 12,  6, 39,  8, 26,  6, 24, 14, 22,\n",
       "        26, 36,  4, 31, 22, 25, 24, 11, 34, 32, 15, 17,  0, 10,  3, 21, 23,\n",
       "        31, 33, 37, 32,  3,  7,  0, 31,  7,  3, 14, 34, 17, 26, 30,  5,  7,\n",
       "         8,  2, 17,  4, 34, 30, 31, 20,  9, 37, 39, 18, 38,  1, 29, 22, 11,\n",
       "        22,  4,  6, 35, 18, 13, 32, 34,  5, 36, 15,  9, 17, 10, 32, 24,  1,\n",
       "         2, 16, 31, 38, 36, 15, 25, 24, 25,  4, 19, 13, 10,  2, 20,  6,  1,\n",
       "        22, 19, 23, 11,  0,  3, 37,  2,  4, 13, 30, 30, 31,  1, 38, 15,  0,\n",
       "        34,  1, 13, 11,  8, 39,  4, 38, 13, 18,  8,  3, 38, 28, 38, 12, 38,\n",
       "        35, 32,  8, 22, 24, 38, 39, 31, 38, 18, 24, 11, 16, 27, 24,  2, 37,\n",
       "         8,  0,  3, 38,  1, 29, 32, 39, 27, 10, 27, 22, 17, 10, 27, 13, 32,\n",
       "        29,  3, 27, 14, 19, 11, 33, 27, 11, 21,  0, 28, 10, 29, 28,  0, 30,\n",
       "        11,  5, 12, 24, 28, 15,  0, 22, 18, 23, 30, 24, 29, 36,  1, 33, 29,\n",
       "         5, 17,  6, 17, 39,  3, 15, 15, 16, 25, 33, 10, 38,  4, 39, 19,  1,\n",
       "        33, 26, 30, 15, 23, 10, 33,  3, 11, 22, 14, 25, 11, 38, 17, 11, 29,\n",
       "         9, 30,  0, 12,  1, 15, 35,  8,  4, 34, 10, 32, 38, 21, 20, 31,  7,\n",
       "        34, 19, 13, 37,  6, 34, 12, 15, 16, 24, 27, 13, 32, 11, 27, 33, 21,\n",
       "        37,  0, 26, 18, 31, 20, 39, 25,  3, 16,  9, 17, 23, 12,  6, 28, 22,\n",
       "        26, 21, 29, 38,  3, 35, 24, 30, 17, 24, 18, 20, 17, 35, 17, 21, 20,\n",
       "        10,  8, 21, 20, 29, 14, 32,  6,  1, 33, 31, 31,  3, 39, 17,  1, 26,\n",
       "        39,  0,  0, 33,  4, 33, 10,  4, 17,  5, 13, 16, 34,  0,  4, 11, 33,\n",
       "        34, 11, 33, 14, 37, 20,  8, 32,  7, 32, 34,  6,  7, 17, 13, 27,  1,\n",
       "        15, 32, 16, 10, 27, 13,  7, 11, 25, 20, 26,  8, 32, 19, 37, 37,  8,\n",
       "         6, 12, 19, 32, 16, 19, 24,  9,  7, 28, 24,  8, 30, 22, 17, 12, 13,\n",
       "        32, 19,  8,  7,  2, 33,  9,  0, 18, 11, 32,  4,  5, 28, 35, 29, 20,\n",
       "        38, 23, 18, 14,  3,  8, 10,  3, 38, 35, 29, 19, 22, 20, 21,  9, 39,\n",
       "        20, 33, 32, 26, 20, 34, 18, 39,  9, 20,  8, 12, 24, 35, 28, 18, 14,\n",
       "        35, 19,  0, 24, 31, 38, 20,  9,  6, 29, 31, 37, 16, 12, 25, 28,  0,\n",
       "        22, 32, 18, 26,  2, 36,  5, 14, 37, 28, 24, 37, 16, 19, 23,  6, 25,\n",
       "        34, 16,  8, 10, 26, 19, 22,  1, 29,  3, 27,  9, 20, 27, 33, 10, 39,\n",
       "         7, 14, 21, 14, 37, 36, 21, 18, 34, 21, 25,  0, 18,  6, 37, 20, 25,\n",
       "        23, 32,  6, 29, 33, 16, 21, 34, 25, 31, 29, 14, 27,  7,  6, 26, 31,\n",
       "        28, 39, 38, 38, 27, 21, 29,  2, 35, 13,  1, 39, 35,  9, 10, 25, 15,\n",
       "        10, 30, 24,  0, 33, 39, 13, 23,  0, 28, 31,  8, 37,  2,  2, 22, 27,\n",
       "         7, 24, 10, 19, 19, 10,  5, 27, 19,  8, 13, 14,  6, 11, 33, 37, 28,\n",
       "        13,  2, 10, 11,  6, 16,  4, 27, 15, 11, 35, 34, 20, 36, 37, 15, 37,\n",
       "        32,  3, 12, 27, 17, 34,  9, 19, 10, 28, 17, 37,  2,  4, 37, 37, 36,\n",
       "         9, 21, 38,  4, 18, 35,  7, 23,  8, 24, 30, 14, 23, 32, 17,  2, 32,\n",
       "         5, 38, 17, 27,  2, 38, 11, 18, 21,  7, 21,  1, 11, 27, 25,  4, 33,\n",
       "        23, 37, 35,  9, 37, 11, 15, 22, 22, 25, 20, 17, 25,  3,  7, 26, 35,\n",
       "         1,  0,  6, 32,  5, 16, 36, 17, 25, 22,  6,  1, 37, 27, 20, 20, 23,\n",
       "        25, 37, 25, 33,  8, 35, 26, 22,  5,  5, 35, 32, 27, 19,  4, 33,  6,\n",
       "         3, 20, 38,  1,  9, 15,  8, 28, 36, 36, 38, 27, 36, 25, 29, 26, 37,\n",
       "        19, 26,  2, 19,  2, 11, 26, 32, 18,  5, 36, 30, 13,  4, 25,  8, 31,\n",
       "        32, 32,  5,  6, 30,  6, 31, 14, 29, 39, 30, 15,  3, 33,  8, 14, 11,\n",
       "         4, 38, 17, 10,  6, 34, 39, 32, 18,  6, 18, 10,  5, 33, 24, 24, 31,\n",
       "         7, 15, 34, 14,  4, 30, 22, 14, 29, 13, 22, 30, 12, 36,  5,  0,  5,\n",
       "         0, 39, 22, 30, 13, 34,  8, 29, 33, 29, 10, 24,  9,  3, 21,  9, 39,\n",
       "        35, 16,  7, 19, 29, 36, 36, 32, 27, 30, 35, 23,  1,  7, 33, 21, 26,\n",
       "         4, 27, 38, 12, 12,  7, 33, 27, 12,  9,  8, 14, 20, 37, 39, 27, 20,\n",
       "        27, 12, 39, 19, 19, 24, 27,  6,  3, 18,  0, 21,  8, 34,  3, 31, 36,\n",
       "        24, 18, 32, 28, 25,  6, 14, 28,  4,  5,  6, 27,  2, 37, 25, 28, 26,\n",
       "        12, 11, 32,  8, 17,  8,  3, 21,  9, 10, 15, 34, 25,  1, 35, 19,  9,\n",
       "        16,  5,  2, 25,  5,  1, 19, 11, 19, 28,  7, 21, 20,  5, 12,  3, 11,\n",
       "        15, 22, 10,  3, 37, 18,  1, 18, 19,  6,  0,  9, 19, 17, 38, 19, 18,\n",
       "        35,  4, 18, 10, 28, 37,  4, 31, 38,  4,  3, 39, 26, 34,  4, 20, 14,\n",
       "         9,  2, 37, 13, 24, 10, 34, 27,  6, 36, 11, 25, 22, 10]))"
      ]
     },
     "execution_count": 21,
     "metadata": {},
     "output_type": "execute_result"
    }
   ],
   "source": [
    "X_train_trf, X_test_trf, y_train_trf, y_test_trf"
   ]
  },
  {
   "cell_type": "code",
   "execution_count": 23,
   "metadata": {},
   "outputs": [
    {
     "data": {
      "text/plain": [
       "40"
      ]
     },
     "execution_count": 23,
     "metadata": {},
     "output_type": "execute_result"
    }
   ],
   "source": [
    "import numpy as np\n",
    "\n",
    "len(np.unique(y_train_trf))"
   ]
  },
  {
   "cell_type": "code",
   "execution_count": 90,
   "metadata": {},
   "outputs": [],
   "source": [
    "from tensorflow.keras.models import Sequential\n",
    "from tensorflow.keras.layers import Dense, Dropout\n",
    "from tensorflow.keras.regularizers import l2"
   ]
  },
  {
   "cell_type": "code",
   "execution_count": 61,
   "metadata": {},
   "outputs": [
    {
     "data": {
      "text/plain": [
       "40"
      ]
     },
     "execution_count": 61,
     "metadata": {},
     "output_type": "execute_result"
    }
   ],
   "source": [
    "len(le.classes_)"
   ]
  },
  {
   "cell_type": "code",
   "execution_count": 91,
   "metadata": {},
   "outputs": [],
   "source": [
    "model = Sequential()\n",
    "model.add(Dense(256, activation='relu', input_shape=(X_train_trf.shape[1],), kernel_regularizer=l2(0.01)))\n",
    "# model.add(Dropout(0.2))\n",
    "model.add(Dense(128, activation='relu', kernel_regularizer=l2(0.01)))\n",
    "model.add(Dense(64, activation='relu', kernel_regularizer=l2(0.01)))\n",
    "# model.add(Dropout(0.2))\n",
    "model.add(Dense(40, activation='softmax'))"
   ]
  },
  {
   "cell_type": "code",
   "execution_count": 92,
   "metadata": {},
   "outputs": [
    {
     "data": {
      "text/html": [
       "<pre style=\"white-space:pre;overflow-x:auto;line-height:normal;font-family:Menlo,'DejaVu Sans Mono',consolas,'Courier New',monospace\"><span style=\"font-weight: bold\">Model: \"sequential_7\"</span>\n",
       "</pre>\n"
      ],
      "text/plain": [
       "\u001b[1mModel: \"sequential_7\"\u001b[0m\n"
      ]
     },
     "metadata": {},
     "output_type": "display_data"
    },
    {
     "data": {
      "text/html": [
       "<pre style=\"white-space:pre;overflow-x:auto;line-height:normal;font-family:Menlo,'DejaVu Sans Mono',consolas,'Courier New',monospace\">┏━━━━━━━━━━━━━━━━━━━━━━━━━━━━━━━━━┳━━━━━━━━━━━━━━━━━━━━━━━━┳━━━━━━━━━━━━━━━┓\n",
       "┃<span style=\"font-weight: bold\"> Layer (type)                    </span>┃<span style=\"font-weight: bold\"> Output Shape           </span>┃<span style=\"font-weight: bold\">       Param # </span>┃\n",
       "┡━━━━━━━━━━━━━━━━━━━━━━━━━━━━━━━━━╇━━━━━━━━━━━━━━━━━━━━━━━━╇━━━━━━━━━━━━━━━┩\n",
       "│ dense_23 (<span style=\"color: #0087ff; text-decoration-color: #0087ff\">Dense</span>)                │ (<span style=\"color: #00d7ff; text-decoration-color: #00d7ff\">None</span>, <span style=\"color: #00af00; text-decoration-color: #00af00\">256</span>)            │        <span style=\"color: #00af00; text-decoration-color: #00af00\">12,288</span> │\n",
       "├─────────────────────────────────┼────────────────────────┼───────────────┤\n",
       "│ dense_24 (<span style=\"color: #0087ff; text-decoration-color: #0087ff\">Dense</span>)                │ (<span style=\"color: #00d7ff; text-decoration-color: #00d7ff\">None</span>, <span style=\"color: #00af00; text-decoration-color: #00af00\">128</span>)            │        <span style=\"color: #00af00; text-decoration-color: #00af00\">32,896</span> │\n",
       "├─────────────────────────────────┼────────────────────────┼───────────────┤\n",
       "│ dense_25 (<span style=\"color: #0087ff; text-decoration-color: #0087ff\">Dense</span>)                │ (<span style=\"color: #00d7ff; text-decoration-color: #00d7ff\">None</span>, <span style=\"color: #00af00; text-decoration-color: #00af00\">64</span>)             │         <span style=\"color: #00af00; text-decoration-color: #00af00\">8,256</span> │\n",
       "├─────────────────────────────────┼────────────────────────┼───────────────┤\n",
       "│ dense_26 (<span style=\"color: #0087ff; text-decoration-color: #0087ff\">Dense</span>)                │ (<span style=\"color: #00d7ff; text-decoration-color: #00d7ff\">None</span>, <span style=\"color: #00af00; text-decoration-color: #00af00\">40</span>)             │         <span style=\"color: #00af00; text-decoration-color: #00af00\">2,600</span> │\n",
       "└─────────────────────────────────┴────────────────────────┴───────────────┘\n",
       "</pre>\n"
      ],
      "text/plain": [
       "┏━━━━━━━━━━━━━━━━━━━━━━━━━━━━━━━━━┳━━━━━━━━━━━━━━━━━━━━━━━━┳━━━━━━━━━━━━━━━┓\n",
       "┃\u001b[1m \u001b[0m\u001b[1mLayer (type)                   \u001b[0m\u001b[1m \u001b[0m┃\u001b[1m \u001b[0m\u001b[1mOutput Shape          \u001b[0m\u001b[1m \u001b[0m┃\u001b[1m \u001b[0m\u001b[1m      Param #\u001b[0m\u001b[1m \u001b[0m┃\n",
       "┡━━━━━━━━━━━━━━━━━━━━━━━━━━━━━━━━━╇━━━━━━━━━━━━━━━━━━━━━━━━╇━━━━━━━━━━━━━━━┩\n",
       "│ dense_23 (\u001b[38;5;33mDense\u001b[0m)                │ (\u001b[38;5;45mNone\u001b[0m, \u001b[38;5;34m256\u001b[0m)            │        \u001b[38;5;34m12,288\u001b[0m │\n",
       "├─────────────────────────────────┼────────────────────────┼───────────────┤\n",
       "│ dense_24 (\u001b[38;5;33mDense\u001b[0m)                │ (\u001b[38;5;45mNone\u001b[0m, \u001b[38;5;34m128\u001b[0m)            │        \u001b[38;5;34m32,896\u001b[0m │\n",
       "├─────────────────────────────────┼────────────────────────┼───────────────┤\n",
       "│ dense_25 (\u001b[38;5;33mDense\u001b[0m)                │ (\u001b[38;5;45mNone\u001b[0m, \u001b[38;5;34m64\u001b[0m)             │         \u001b[38;5;34m8,256\u001b[0m │\n",
       "├─────────────────────────────────┼────────────────────────┼───────────────┤\n",
       "│ dense_26 (\u001b[38;5;33mDense\u001b[0m)                │ (\u001b[38;5;45mNone\u001b[0m, \u001b[38;5;34m40\u001b[0m)             │         \u001b[38;5;34m2,600\u001b[0m │\n",
       "└─────────────────────────────────┴────────────────────────┴───────────────┘\n"
      ]
     },
     "metadata": {},
     "output_type": "display_data"
    },
    {
     "data": {
      "text/html": [
       "<pre style=\"white-space:pre;overflow-x:auto;line-height:normal;font-family:Menlo,'DejaVu Sans Mono',consolas,'Courier New',monospace\"><span style=\"font-weight: bold\"> Total params: </span><span style=\"color: #00af00; text-decoration-color: #00af00\">56,040</span> (218.91 KB)\n",
       "</pre>\n"
      ],
      "text/plain": [
       "\u001b[1m Total params: \u001b[0m\u001b[38;5;34m56,040\u001b[0m (218.91 KB)\n"
      ]
     },
     "metadata": {},
     "output_type": "display_data"
    },
    {
     "data": {
      "text/html": [
       "<pre style=\"white-space:pre;overflow-x:auto;line-height:normal;font-family:Menlo,'DejaVu Sans Mono',consolas,'Courier New',monospace\"><span style=\"font-weight: bold\"> Trainable params: </span><span style=\"color: #00af00; text-decoration-color: #00af00\">56,040</span> (218.91 KB)\n",
       "</pre>\n"
      ],
      "text/plain": [
       "\u001b[1m Trainable params: \u001b[0m\u001b[38;5;34m56,040\u001b[0m (218.91 KB)\n"
      ]
     },
     "metadata": {},
     "output_type": "display_data"
    },
    {
     "data": {
      "text/html": [
       "<pre style=\"white-space:pre;overflow-x:auto;line-height:normal;font-family:Menlo,'DejaVu Sans Mono',consolas,'Courier New',monospace\"><span style=\"font-weight: bold\"> Non-trainable params: </span><span style=\"color: #00af00; text-decoration-color: #00af00\">0</span> (0.00 B)\n",
       "</pre>\n"
      ],
      "text/plain": [
       "\u001b[1m Non-trainable params: \u001b[0m\u001b[38;5;34m0\u001b[0m (0.00 B)\n"
      ]
     },
     "metadata": {},
     "output_type": "display_data"
    }
   ],
   "source": [
    "model.summary()"
   ]
  },
  {
   "cell_type": "code",
   "execution_count": 93,
   "metadata": {},
   "outputs": [],
   "source": [
    "model.compile(loss='sparse_categorical_crossentropy', optimizer='adam', metrics=['accuracy'])"
   ]
  },
  {
   "cell_type": "code",
   "execution_count": 94,
   "metadata": {},
   "outputs": [
    {
     "name": "stdout",
     "output_type": "stream",
     "text": [
      "Epoch 1/20\n"
     ]
    },
    {
     "name": "stdout",
     "output_type": "stream",
     "text": [
      "\u001b[1m125/125\u001b[0m \u001b[32m━━━━━━━━━━━━━━━━━━━━\u001b[0m\u001b[37m\u001b[0m \u001b[1m3s\u001b[0m 4ms/step - accuracy: 0.0251 - loss: 5.8726 - val_accuracy: 0.0260 - val_loss: 3.9884\n",
      "Epoch 2/20\n",
      "\u001b[1m125/125\u001b[0m \u001b[32m━━━━━━━━━━━━━━━━━━━━\u001b[0m\u001b[37m\u001b[0m \u001b[1m0s\u001b[0m 2ms/step - accuracy: 0.0267 - loss: 3.8611 - val_accuracy: 0.0300 - val_loss: 3.7053\n",
      "Epoch 3/20\n",
      "\u001b[1m125/125\u001b[0m \u001b[32m━━━━━━━━━━━━━━━━━━━━\u001b[0m\u001b[37m\u001b[0m \u001b[1m0s\u001b[0m 2ms/step - accuracy: 0.0289 - loss: 3.6972 - val_accuracy: 0.0300 - val_loss: 3.6904\n",
      "Epoch 4/20\n",
      "\u001b[1m125/125\u001b[0m \u001b[32m━━━━━━━━━━━━━━━━━━━━\u001b[0m\u001b[37m\u001b[0m \u001b[1m0s\u001b[0m 2ms/step - accuracy: 0.0288 - loss: 3.6876 - val_accuracy: 0.0300 - val_loss: 3.6899\n",
      "Epoch 5/20\n",
      "\u001b[1m125/125\u001b[0m \u001b[32m━━━━━━━━━━━━━━━━━━━━\u001b[0m\u001b[37m\u001b[0m \u001b[1m0s\u001b[0m 2ms/step - accuracy: 0.0363 - loss: 3.6866 - val_accuracy: 0.0300 - val_loss: 3.6904\n",
      "Epoch 6/20\n",
      "\u001b[1m125/125\u001b[0m \u001b[32m━━━━━━━━━━━━━━━━━━━━\u001b[0m\u001b[37m\u001b[0m \u001b[1m0s\u001b[0m 2ms/step - accuracy: 0.0292 - loss: 3.6868 - val_accuracy: 0.0300 - val_loss: 3.6908\n",
      "Epoch 7/20\n",
      "\u001b[1m125/125\u001b[0m \u001b[32m━━━━━━━━━━━━━━━━━━━━\u001b[0m\u001b[37m\u001b[0m \u001b[1m0s\u001b[0m 2ms/step - accuracy: 0.0292 - loss: 3.6872 - val_accuracy: 0.0300 - val_loss: 3.6911\n",
      "Epoch 8/20\n",
      "\u001b[1m125/125\u001b[0m \u001b[32m━━━━━━━━━━━━━━━━━━━━\u001b[0m\u001b[37m\u001b[0m \u001b[1m0s\u001b[0m 2ms/step - accuracy: 0.0299 - loss: 3.6865 - val_accuracy: 0.0230 - val_loss: 3.6912\n",
      "Epoch 9/20\n",
      "\u001b[1m125/125\u001b[0m \u001b[32m━━━━━━━━━━━━━━━━━━━━\u001b[0m\u001b[37m\u001b[0m \u001b[1m0s\u001b[0m 2ms/step - accuracy: 0.0290 - loss: 3.6865 - val_accuracy: 0.0230 - val_loss: 3.6917\n",
      "Epoch 10/20\n",
      "\u001b[1m125/125\u001b[0m \u001b[32m━━━━━━━━━━━━━━━━━━━━\u001b[0m\u001b[37m\u001b[0m \u001b[1m0s\u001b[0m 2ms/step - accuracy: 0.0282 - loss: 3.6872 - val_accuracy: 0.0230 - val_loss: 3.6914\n",
      "Epoch 11/20\n",
      "\u001b[1m125/125\u001b[0m \u001b[32m━━━━━━━━━━━━━━━━━━━━\u001b[0m\u001b[37m\u001b[0m \u001b[1m0s\u001b[0m 2ms/step - accuracy: 0.0258 - loss: 3.6861 - val_accuracy: 0.0230 - val_loss: 3.6918\n",
      "Epoch 12/20\n",
      "\u001b[1m125/125\u001b[0m \u001b[32m━━━━━━━━━━━━━━━━━━━━\u001b[0m\u001b[37m\u001b[0m \u001b[1m0s\u001b[0m 2ms/step - accuracy: 0.0337 - loss: 3.6850 - val_accuracy: 0.0230 - val_loss: 3.6917\n",
      "Epoch 13/20\n",
      "\u001b[1m125/125\u001b[0m \u001b[32m━━━━━━━━━━━━━━━━━━━━\u001b[0m\u001b[37m\u001b[0m \u001b[1m0s\u001b[0m 3ms/step - accuracy: 0.0284 - loss: 3.6880 - val_accuracy: 0.0230 - val_loss: 3.6919\n",
      "Epoch 14/20\n",
      "\u001b[1m125/125\u001b[0m \u001b[32m━━━━━━━━━━━━━━━━━━━━\u001b[0m\u001b[37m\u001b[0m \u001b[1m0s\u001b[0m 2ms/step - accuracy: 0.0254 - loss: 3.6886 - val_accuracy: 0.0230 - val_loss: 3.6919\n",
      "Epoch 15/20\n",
      "\u001b[1m125/125\u001b[0m \u001b[32m━━━━━━━━━━━━━━━━━━━━\u001b[0m\u001b[37m\u001b[0m \u001b[1m0s\u001b[0m 2ms/step - accuracy: 0.0303 - loss: 3.6871 - val_accuracy: 0.0230 - val_loss: 3.6922\n",
      "Epoch 16/20\n",
      "\u001b[1m125/125\u001b[0m \u001b[32m━━━━━━━━━━━━━━━━━━━━\u001b[0m\u001b[37m\u001b[0m \u001b[1m0s\u001b[0m 2ms/step - accuracy: 0.0298 - loss: 3.6862 - val_accuracy: 0.0230 - val_loss: 3.6919\n",
      "Epoch 17/20\n",
      "\u001b[1m125/125\u001b[0m \u001b[32m━━━━━━━━━━━━━━━━━━━━\u001b[0m\u001b[37m\u001b[0m \u001b[1m0s\u001b[0m 2ms/step - accuracy: 0.0328 - loss: 3.6842 - val_accuracy: 0.0230 - val_loss: 3.6918\n",
      "Epoch 18/20\n",
      "\u001b[1m125/125\u001b[0m \u001b[32m━━━━━━━━━━━━━━━━━━━━\u001b[0m\u001b[37m\u001b[0m \u001b[1m0s\u001b[0m 2ms/step - accuracy: 0.0322 - loss: 3.6867 - val_accuracy: 0.0230 - val_loss: 3.6920\n",
      "Epoch 19/20\n",
      "\u001b[1m125/125\u001b[0m \u001b[32m━━━━━━━━━━━━━━━━━━━━\u001b[0m\u001b[37m\u001b[0m \u001b[1m0s\u001b[0m 2ms/step - accuracy: 0.0288 - loss: 3.6861 - val_accuracy: 0.0230 - val_loss: 3.6919\n",
      "Epoch 20/20\n",
      "\u001b[1m125/125\u001b[0m \u001b[32m━━━━━━━━━━━━━━━━━━━━\u001b[0m\u001b[37m\u001b[0m \u001b[1m0s\u001b[0m 2ms/step - accuracy: 0.0308 - loss: 3.6866 - val_accuracy: 0.0230 - val_loss: 3.6921\n"
     ]
    },
    {
     "data": {
      "text/plain": [
       "<keras.src.callbacks.history.History at 0x15da4903110>"
      ]
     },
     "execution_count": 94,
     "metadata": {},
     "output_type": "execute_result"
    }
   ],
   "source": [
    "model.fit(\n",
    "    X_train_trf, \n",
    "    y_train_trf,\n",
    "    validation_data=(X_test_trf, y_test_trf),\n",
    "    epochs=20\n",
    ")"
   ]
  },
  {
   "cell_type": "code",
   "execution_count": 98,
   "metadata": {},
   "outputs": [
    {
     "data": {
      "text/html": [
       "<div>\n",
       "<style scoped>\n",
       "    .dataframe tbody tr th:only-of-type {\n",
       "        vertical-align: middle;\n",
       "    }\n",
       "\n",
       "    .dataframe tbody tr th {\n",
       "        vertical-align: top;\n",
       "    }\n",
       "\n",
       "    .dataframe thead th {\n",
       "        text-align: right;\n",
       "    }\n",
       "</style>\n",
       "<table border=\"1\" class=\"dataframe\">\n",
       "  <thead>\n",
       "    <tr style=\"text-align: right;\">\n",
       "      <th></th>\n",
       "      <th>Interest</th>\n",
       "      <th>Skill_Level</th>\n",
       "      <th>Work_Style</th>\n",
       "      <th>Education</th>\n",
       "      <th>Personality</th>\n",
       "      <th>Problem_Solving</th>\n",
       "      <th>Tech</th>\n",
       "      <th>Communication</th>\n",
       "      <th>Leadership</th>\n",
       "      <th>Creativity</th>\n",
       "    </tr>\n",
       "  </thead>\n",
       "  <tbody>\n",
       "    <tr>\n",
       "      <th>2891</th>\n",
       "      <td>medicine</td>\n",
       "      <td>expert</td>\n",
       "      <td>office</td>\n",
       "      <td>masters</td>\n",
       "      <td>doer</td>\n",
       "      <td>logical</td>\n",
       "      <td>low</td>\n",
       "      <td>poor</td>\n",
       "      <td>collaborative</td>\n",
       "      <td>low</td>\n",
       "    </tr>\n",
       "    <tr>\n",
       "      <th>493</th>\n",
       "      <td>business</td>\n",
       "      <td>advanced</td>\n",
       "      <td>team</td>\n",
       "      <td>high school</td>\n",
       "      <td>doer</td>\n",
       "      <td>creative</td>\n",
       "      <td>medium</td>\n",
       "      <td>fluent</td>\n",
       "      <td>collaborative</td>\n",
       "      <td>high</td>\n",
       "    </tr>\n",
       "    <tr>\n",
       "      <th>670</th>\n",
       "      <td>science</td>\n",
       "      <td>beginner</td>\n",
       "      <td>office</td>\n",
       "      <td>high school</td>\n",
       "      <td>leader</td>\n",
       "      <td>creative</td>\n",
       "      <td>medium</td>\n",
       "      <td>poor</td>\n",
       "      <td>moderate</td>\n",
       "      <td>low</td>\n",
       "    </tr>\n",
       "    <tr>\n",
       "      <th>3610</th>\n",
       "      <td>technology</td>\n",
       "      <td>advanced</td>\n",
       "      <td>remote</td>\n",
       "      <td>phd</td>\n",
       "      <td>thinker</td>\n",
       "      <td>practical</td>\n",
       "      <td>high</td>\n",
       "      <td>outstanding</td>\n",
       "      <td>visionary</td>\n",
       "      <td>exceptional</td>\n",
       "    </tr>\n",
       "    <tr>\n",
       "      <th>4773</th>\n",
       "      <td>medicine</td>\n",
       "      <td>beginner</td>\n",
       "      <td>solo</td>\n",
       "      <td>phd</td>\n",
       "      <td>extrovert</td>\n",
       "      <td>logical</td>\n",
       "      <td>low</td>\n",
       "      <td>poor</td>\n",
       "      <td>collaborative</td>\n",
       "      <td>low</td>\n",
       "    </tr>\n",
       "    <tr>\n",
       "      <th>...</th>\n",
       "      <td>...</td>\n",
       "      <td>...</td>\n",
       "      <td>...</td>\n",
       "      <td>...</td>\n",
       "      <td>...</td>\n",
       "      <td>...</td>\n",
       "      <td>...</td>\n",
       "      <td>...</td>\n",
       "      <td>...</td>\n",
       "      <td>...</td>\n",
       "    </tr>\n",
       "    <tr>\n",
       "      <th>1129</th>\n",
       "      <td>art</td>\n",
       "      <td>beginner</td>\n",
       "      <td>solo</td>\n",
       "      <td>high school</td>\n",
       "      <td>leader</td>\n",
       "      <td>logical</td>\n",
       "      <td>high</td>\n",
       "      <td>outstanding</td>\n",
       "      <td>visionary</td>\n",
       "      <td>very high</td>\n",
       "    </tr>\n",
       "    <tr>\n",
       "      <th>2894</th>\n",
       "      <td>science</td>\n",
       "      <td>advanced</td>\n",
       "      <td>solo</td>\n",
       "      <td>diploma</td>\n",
       "      <td>introvert</td>\n",
       "      <td>creative</td>\n",
       "      <td>low</td>\n",
       "      <td>poor</td>\n",
       "      <td>collaborative</td>\n",
       "      <td>low</td>\n",
       "    </tr>\n",
       "    <tr>\n",
       "      <th>138</th>\n",
       "      <td>business</td>\n",
       "      <td>intermediate</td>\n",
       "      <td>solo</td>\n",
       "      <td>diploma</td>\n",
       "      <td>leader</td>\n",
       "      <td>practical</td>\n",
       "      <td>medium</td>\n",
       "      <td>fluent</td>\n",
       "      <td>strong</td>\n",
       "      <td>exceptional</td>\n",
       "    </tr>\n",
       "    <tr>\n",
       "      <th>592</th>\n",
       "      <td>medicine</td>\n",
       "      <td>expert</td>\n",
       "      <td>team</td>\n",
       "      <td>bachelors</td>\n",
       "      <td>thinker</td>\n",
       "      <td>analytical</td>\n",
       "      <td>medium</td>\n",
       "      <td>excellent</td>\n",
       "      <td>collaborative</td>\n",
       "      <td>exceptional</td>\n",
       "    </tr>\n",
       "    <tr>\n",
       "      <th>3517</th>\n",
       "      <td>art</td>\n",
       "      <td>beginner</td>\n",
       "      <td>team</td>\n",
       "      <td>bachelors</td>\n",
       "      <td>introvert</td>\n",
       "      <td>logical</td>\n",
       "      <td>medium</td>\n",
       "      <td>poor</td>\n",
       "      <td>strong</td>\n",
       "      <td>medium</td>\n",
       "    </tr>\n",
       "  </tbody>\n",
       "</table>\n",
       "<p>1000 rows × 10 columns</p>\n",
       "</div>"
      ],
      "text/plain": [
       "        Interest   Skill_Level Work_Style    Education Personality  \\\n",
       "2891    medicine        expert     office      masters        doer   \n",
       "493     business      advanced       team  high school        doer   \n",
       "670      science      beginner     office  high school      leader   \n",
       "3610  technology      advanced     remote          phd     thinker   \n",
       "4773    medicine      beginner       solo          phd   extrovert   \n",
       "...          ...           ...        ...          ...         ...   \n",
       "1129         art      beginner       solo  high school      leader   \n",
       "2894     science      advanced       solo      diploma   introvert   \n",
       "138     business  intermediate       solo      diploma      leader   \n",
       "592     medicine        expert       team    bachelors     thinker   \n",
       "3517         art      beginner       team    bachelors   introvert   \n",
       "\n",
       "     Problem_Solving    Tech Communication     Leadership   Creativity  \n",
       "2891         logical     low          poor  collaborative          low  \n",
       "493         creative  medium        fluent  collaborative         high  \n",
       "670         creative  medium          poor       moderate          low  \n",
       "3610       practical    high   outstanding      visionary  exceptional  \n",
       "4773         logical     low          poor  collaborative          low  \n",
       "...              ...     ...           ...            ...          ...  \n",
       "1129         logical    high   outstanding      visionary    very high  \n",
       "2894        creative     low          poor  collaborative          low  \n",
       "138        practical  medium        fluent         strong  exceptional  \n",
       "592       analytical  medium     excellent  collaborative  exceptional  \n",
       "3517         logical  medium          poor         strong       medium  \n",
       "\n",
       "[1000 rows x 10 columns]"
      ]
     },
     "execution_count": 98,
     "metadata": {},
     "output_type": "execute_result"
    }
   ],
   "source": [
    "X_test"
   ]
  },
  {
   "cell_type": "code",
   "execution_count": 156,
   "metadata": {},
   "outputs": [],
   "source": [
    "input_qurie = list(X_test.loc[2894])"
   ]
  },
  {
   "cell_type": "code",
   "execution_count": 157,
   "metadata": {},
   "outputs": [],
   "source": [
    "import numpy as np\n",
    "\n",
    "input_qurie = pd.DataFrame(np.array([input_qurie]), columns=columns)"
   ]
  },
  {
   "cell_type": "code",
   "execution_count": 158,
   "metadata": {},
   "outputs": [
    {
     "data": {
      "text/html": [
       "<div>\n",
       "<style scoped>\n",
       "    .dataframe tbody tr th:only-of-type {\n",
       "        vertical-align: middle;\n",
       "    }\n",
       "\n",
       "    .dataframe tbody tr th {\n",
       "        vertical-align: top;\n",
       "    }\n",
       "\n",
       "    .dataframe thead th {\n",
       "        text-align: right;\n",
       "    }\n",
       "</style>\n",
       "<table border=\"1\" class=\"dataframe\">\n",
       "  <thead>\n",
       "    <tr style=\"text-align: right;\">\n",
       "      <th></th>\n",
       "      <th>Interest</th>\n",
       "      <th>Skill_Level</th>\n",
       "      <th>Work_Style</th>\n",
       "      <th>Education</th>\n",
       "      <th>Personality</th>\n",
       "      <th>Problem_Solving</th>\n",
       "      <th>Tech</th>\n",
       "      <th>Communication</th>\n",
       "      <th>Leadership</th>\n",
       "      <th>Creativity</th>\n",
       "    </tr>\n",
       "  </thead>\n",
       "  <tbody>\n",
       "    <tr>\n",
       "      <th>0</th>\n",
       "      <td>science</td>\n",
       "      <td>advanced</td>\n",
       "      <td>solo</td>\n",
       "      <td>diploma</td>\n",
       "      <td>introvert</td>\n",
       "      <td>creative</td>\n",
       "      <td>low</td>\n",
       "      <td>poor</td>\n",
       "      <td>collaborative</td>\n",
       "      <td>low</td>\n",
       "    </tr>\n",
       "  </tbody>\n",
       "</table>\n",
       "</div>"
      ],
      "text/plain": [
       "  Interest Skill_Level Work_Style Education Personality Problem_Solving Tech  \\\n",
       "0  science    advanced       solo   diploma   introvert        creative  low   \n",
       "\n",
       "  Communication     Leadership Creativity  \n",
       "0          poor  collaborative        low  "
      ]
     },
     "execution_count": 158,
     "metadata": {},
     "output_type": "execute_result"
    }
   ],
   "source": [
    "input_qurie"
   ]
  },
  {
   "cell_type": "code",
   "execution_count": 159,
   "metadata": {},
   "outputs": [],
   "source": [
    "prediction_input = np.array([preprocessor.transform(input_qurie)[0]])"
   ]
  },
  {
   "cell_type": "code",
   "execution_count": 160,
   "metadata": {},
   "outputs": [
    {
     "data": {
      "text/plain": [
       "array([[0., 0., 0., 1., 0., 1., 0., 0., 0., 0., 0., 0., 1., 0., 0., 1.,\n",
       "        0., 0., 0., 0., 0., 1., 0., 0., 0., 1., 0., 0., 0., 0., 1., 0.,\n",
       "        0., 0., 0., 0., 0., 1., 1., 0., 0., 0., 0., 0., 1., 0., 0.]])"
      ]
     },
     "execution_count": 160,
     "metadata": {},
     "output_type": "execute_result"
    }
   ],
   "source": [
    "prediction_input"
   ]
  },
  {
   "cell_type": "code",
   "execution_count": 161,
   "metadata": {},
   "outputs": [
    {
     "name": "stdout",
     "output_type": "stream",
     "text": [
      "\u001b[1m1/1\u001b[0m \u001b[32m━━━━━━━━━━━━━━━━━━━━\u001b[0m\u001b[37m\u001b[0m \u001b[1m0s\u001b[0m 34ms/step\n"
     ]
    }
   ],
   "source": [
    "prediction = model.predict(prediction_input)"
   ]
  },
  {
   "cell_type": "code",
   "execution_count": 162,
   "metadata": {},
   "outputs": [
    {
     "data": {
      "text/plain": [
       "array([[0.02396186, 0.02263361, 0.0234366 , 0.0231523 , 0.02599659,\n",
       "        0.02623536, 0.02284913, 0.02545882, 0.02301746, 0.02569979,\n",
       "        0.02785396, 0.02876105, 0.02372194, 0.02597085, 0.02383758,\n",
       "        0.0267227 , 0.0255262 , 0.02420458, 0.02856317, 0.0243386 ,\n",
       "        0.02598333, 0.02588741, 0.02683465, 0.02321241, 0.02278556,\n",
       "        0.02470937, 0.0265565 , 0.02340666, 0.02365896, 0.02555453,\n",
       "        0.0216676 , 0.02251566, 0.02678259, 0.02429385, 0.0263499 ,\n",
       "        0.02456799, 0.02657984, 0.0277435 , 0.02301442, 0.02595302]],\n",
       "      dtype=float32)"
      ]
     },
     "execution_count": 162,
     "metadata": {},
     "output_type": "execute_result"
    }
   ],
   "source": [
    "prediction"
   ]
  },
  {
   "cell_type": "code",
   "execution_count": 163,
   "metadata": {},
   "outputs": [
    {
     "data": {
      "text/plain": [
       "11"
      ]
     },
     "execution_count": 163,
     "metadata": {},
     "output_type": "execute_result"
    }
   ],
   "source": [
    "np.argmax(prediction, axis=1)[0]"
   ]
  },
  {
   "cell_type": "code",
   "execution_count": 164,
   "metadata": {},
   "outputs": [
    {
     "data": {
      "text/plain": [
       "'data analyst'"
      ]
     },
     "execution_count": 164,
     "metadata": {},
     "output_type": "execute_result"
    }
   ],
   "source": [
    "le.classes_[np.argmax(prediction, axis=1)[0]]"
   ]
  },
  {
   "cell_type": "code",
   "execution_count": 6,
   "metadata": {},
   "outputs": [],
   "source": [
    "# Importing Necessary Dependencies\n",
    "import os\n",
    "import sys\n",
    "\n",
    "import pandas as pd\n",
    "import numpy as np\n",
    "\n",
    "from dataclasses import dataclass\n",
    "\n",
    "from src.utils.exception import CustomException\n",
    "from src.utils.logger import get_logger\n",
    "\n",
    "from sklearn.preprocessing import OneHotEncoder\n",
    "from sklearn.preprocessing import LabelEncoder\n",
    "from sklearn.compose import ColumnTransformer\n",
    "from sklearn.model_selection import train_test_split\n",
    "\n",
    "# creating our logger object\n",
    "logger = get_logger('Data_Preprocessing')\n",
    "\n",
    "# Creating our data class for paths\n",
    "@dataclass\n",
    "class DataPaths:\n",
    "    training_data_path: str = 'artifacts/train.csv'\n",
    "    testing_data_path: str = 'artifacts/test.csv'\n",
    "\n",
    "# Creating our main data preprocessing class\n",
    "class DataPreprocessing:\n",
    "    def __init__(self):\n",
    "        self.data_paths = DataPaths()\n",
    "\n",
    "        self.DEPENDENT_FEATURE = \"Career\"\n",
    "\n",
    "    def data_splitter(self, data):\n",
    "        '''\n",
    "        This method will take data and convert it into training and testing data and stores it in artifacts folder.\n",
    "\n",
    "        Parameters:\n",
    "            data: Dataframe.\n",
    "\n",
    "        Returns:\n",
    "            train and test data paths\n",
    "        '''\n",
    "\n",
    "        try:\n",
    "            # Splitting our data into train and test part 80/20\n",
    "            logger.info('Splitting data into 80/20 part')\n",
    "\n",
    "            train_data, test_data = train_test_split(data, test_size=0.2)\n",
    "\n",
    "            logger.info('Data Splitted')\n",
    "            logger.info('Saving train and test data to artifacts')\n",
    "\n",
    "            #saving train and test data to artifact\n",
    "            logger.info('Saving train data to artifact')\n",
    "            train_data.to_csv(self.data_paths.training_data_path, index=False)\n",
    "\n",
    "            logger.info('Saving test data to artifacts')\n",
    "            test_data.to_csv(self.data_paths.testing_data_path, index=False)\n",
    "\n",
    "            logger.info('train and test data saving done')\n",
    "\n",
    "            # returning training and testing data paths\n",
    "            return (\n",
    "                self.data_paths.training_data_path,\n",
    "                self.data_paths.testing_data_path\n",
    "            )\n",
    "        \n",
    "        except Exception as e:\n",
    "            logger.error(e)\n",
    "            CustomException(e, sys)\n",
    "\n",
    "    def training_testing_splitter(self, data):\n",
    "        '''\n",
    "        This method will take data and returns X_train, X_test, y_train, y_test\n",
    "\n",
    "        Parameters:\n",
    "            data: DataFrame\n",
    "        \n",
    "        Returns:\n",
    "            X_train, X_test, y_train, y_test\n",
    "        '''\n",
    "\n",
    "        try:\n",
    "            # Sending data to split it into train and testing part.\n",
    "            logger.info('Splitting it into training and testing part')\n",
    "\n",
    "            train_path, test_path = self.data_splitter(data=data)\n",
    "\n",
    "            logger.info('Loading train and test data path')\n",
    "\n",
    "            logger.info('Loading training data path')\n",
    "            train_data = pd.read_csv(train_path)\n",
    "\n",
    "            logger.info('Loading testing data path')\n",
    "            test_data = pd.read_csv(test_path)\n",
    "\n",
    "            logger.info('Train and Test data loaded')\n",
    "\n",
    "            # Splitting data into Independent and Dependent features\n",
    "\n",
    "            logger.info(\"Splitting training data to dependent and independt feature\")\n",
    "            X_train, y_train = train_data.drop([self.DEPENDENT_FEATURE], axis=1), train_data[self.DEPENDENT_FEATURE]\n",
    "\n",
    "            logger.info('Splitting testing data into dependent and independent feature')\n",
    "            X_test, y_test = test_data.drop([self.DEPENDENT_FEATURE], axis=1), test_data[self.DEPENDENT_FEATURE]\n",
    "\n",
    "            logger.info('Data Splitting Completed')\n",
    "            \n",
    "            # Returning X_train, X_test, y_train, y_test\n",
    "            return (\n",
    "                X_train, \n",
    "                X_test,\n",
    "                y_train,\n",
    "                y_test\n",
    "            )\n",
    "\n",
    "        except Exception as e:\n",
    "            logger.error(e)\n",
    "            CustomException(e, sys)\n",
    "\n",
    "    def get_preprocessors(self, X_train, y_train):\n",
    "        '''\n",
    "        This method creates X_preprocessor and y_preprocessor and returns it\n",
    "\n",
    "        Parameters:\n",
    "            columns: for creating X_preprocessor columns is required for preprocessor.\n",
    "\n",
    "        Returns:\n",
    "            X_preprocessor, y_preprocessor.\n",
    "        '''\n",
    "\n",
    "        try:\n",
    "            # Creating our preprocessor object\n",
    "            logger.info('Creating our preprocessors object')\n",
    "\n",
    "            logger.info(\"Creating our X_preprocessor\")\n",
    "\n",
    "            X_preprocessors = {\n",
    "                col: LabelEncoder().fit(X_train[col]) for col in X_train.columns\n",
    "            }\n",
    "\n",
    "            logger.info('Creating our y_preprocessor')\n",
    "            y_preprocessor = LabelEncoder().fit(y_train)\n",
    "\n",
    "            logger.info('Preprocessor Object Created')\n",
    "\n",
    "            # Returning the preprocessor objects\n",
    "            return (\n",
    "                X_preprocessors,\n",
    "                y_preprocessor\n",
    "            )\n",
    "\n",
    "        except Exception as e:\n",
    "            logger.error(e)\n",
    "            CustomException(e, sys)\n",
    "\n",
    "    def initiate_Preprocessing(self, data_path):\n",
    "        '''\n",
    "        This main method will take data path, splits it, preprocessed it and returns it.\n",
    "\n",
    "        Parameters:\n",
    "            data_path: our data path.\n",
    "\n",
    "        Returns:\n",
    "            X_train, X_test, y_train, y_test.\n",
    "        '''\n",
    "\n",
    "        try:\n",
    "            # Starting our data preprocessing\n",
    "            logger.info('Data Preprocessing Initialized')\n",
    "\n",
    "            if os.path.exists(data_path):\n",
    "                # reading our data from path\n",
    "                logger.info(\"Reading our data\")\n",
    "                data = pd.read_csv(data_path)\n",
    "                logger.info('Data Loaded')\n",
    "\n",
    "                # Getting X_train, X_test, y_train, y_test\n",
    "                X_train, X_test, y_train, y_test = self.training_testing_splitter(data=data)\n",
    "\n",
    "                # Getting our preprocessor objects\n",
    "                logger.info('Entering get_preprocessor method')\n",
    "                X_preprocessors, y_preprocessor = self.get_preprocessors(X_train=X_train, y_train=y_train)\n",
    "\n",
    "                # Initiating preprocessing on our data\n",
    "                logger.info(\"Starts preprocessing\")\n",
    "\n",
    "                logger.info(\"Preprocessing on Independent Data\")\n",
    "\n",
    "                # Encode X_train\n",
    "                X_train_trf = np.column_stack([\n",
    "                    X_preprocessors[col].transform(X_train[col]) for col in X_train.columns\n",
    "                ])\n",
    "\n",
    "                # Encode X_test\n",
    "                X_test_trf = np.column_stack([\n",
    "                    X_preprocessors[col].transform(X_test[col]) for col in X_test.columns\n",
    "                ])\n",
    "\n",
    "                logger.info(\"Preprocessing on Dependent Features\")\n",
    "\n",
    "                # transforming on y_train\n",
    "                y_train_trf = y_preprocessor.transform(y_train)\n",
    "\n",
    "                # Transforming on y_test\n",
    "                y_test_trf = y_preprocessor.transform(y_test)\n",
    "\n",
    "                logger.info(\"All Preprocessing Completed\")\n",
    "\n",
    "                # Returning Transformed and model ready to train data\n",
    "                return (\n",
    "                    X_train_trf,\n",
    "                    X_test_trf,\n",
    "                    y_train_trf,\n",
    "                    y_test_trf\n",
    "                )\n",
    "            \n",
    "            else:\n",
    "                logger.error('Data Not exists')\n",
    "\n",
    "        except Exception as e:\n",
    "            logger.error(e)\n",
    "            CustomException(e, sys)\n",
    "\n",
    "\n",
    "# For testing purpose\n",
    "if __name__ == '__main__':\n",
    "    from src.components.data_ingestion import DataIngestion\n",
    "\n",
    "    data_ingestion = DataIngestion()\n",
    "\n",
    "    data_path = data_ingestion.load_data()\n",
    "\n",
    "    data_preprocessing = DataPreprocessing()\n",
    "\n",
    "    X_train, X_test, y_train, y_test = data_preprocessing.initiate_Preprocessing(data_path=data_path)\n",
    "\n",
    "    print(X_train)"
   ]
  },
  {
   "cell_type": "code",
   "execution_count": 7,
   "metadata": {},
   "outputs": [
    {
     "ename": "AttributeError",
     "evalue": "'DataPreprocessing' object has no attribute 'label_encoders'",
     "output_type": "error",
     "traceback": [
      "\u001b[1;31m---------------------------------------------------------------------------\u001b[0m",
      "\u001b[1;31mAttributeError\u001b[0m                            Traceback (most recent call last)",
      "Cell \u001b[1;32mIn[7], line 2\u001b[0m\n\u001b[0;32m      1\u001b[0m obj \u001b[38;5;241m=\u001b[39m DataPreprocessing()\n\u001b[1;32m----> 2\u001b[0m \u001b[43mobj\u001b[49m\u001b[38;5;241;43m.\u001b[39;49m\u001b[43mtemp\u001b[49m\u001b[43m(\u001b[49m\u001b[43m)\u001b[49m\n",
      "Cell \u001b[1;32mIn[6], line 211\u001b[0m, in \u001b[0;36mDataPreprocessing.temp\u001b[1;34m(self)\u001b[0m\n\u001b[0;32m    210\u001b[0m \u001b[38;5;28;01mdef\u001b[39;00m \u001b[38;5;21mtemp\u001b[39m(\u001b[38;5;28mself\u001b[39m):\n\u001b[1;32m--> 211\u001b[0m     \u001b[38;5;28mprint\u001b[39m(\u001b[38;5;28;43mself\u001b[39;49m\u001b[38;5;241;43m.\u001b[39;49m\u001b[43mlabel_encoders\u001b[49m)\n",
      "\u001b[1;31mAttributeError\u001b[0m: 'DataPreprocessing' object has no attribute 'label_encoders'"
     ]
    }
   ],
   "source": [
    "obj = DataPreprocessing()\n",
    "obj.temp()"
   ]
  },
  {
   "cell_type": "code",
   "execution_count": null,
   "metadata": {},
   "outputs": [],
   "source": []
  }
 ],
 "metadata": {
  "kernelspec": {
   "display_name": "Python 3",
   "language": "python",
   "name": "python3"
  },
  "language_info": {
   "codemirror_mode": {
    "name": "ipython",
    "version": 3
   },
   "file_extension": ".py",
   "mimetype": "text/x-python",
   "name": "python",
   "nbconvert_exporter": "python",
   "pygments_lexer": "ipython3",
   "version": "3.12.6"
  }
 },
 "nbformat": 4,
 "nbformat_minor": 2
}
