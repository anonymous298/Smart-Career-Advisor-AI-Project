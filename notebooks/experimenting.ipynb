{
 "cells": [
  {
   "cell_type": "code",
   "execution_count": 6,
   "metadata": {},
   "outputs": [
    {
     "name": "stdout",
     "output_type": "stream",
     "text": [
      "exist\n"
     ]
    }
   ],
   "source": [
    "import os\n",
    "\n",
    "if os.path.exists(r'data\\new_career_dataset.csv'):\n",
    "    print('exist')"
   ]
  },
  {
   "cell_type": "code",
   "execution_count": 7,
   "metadata": {},
   "outputs": [
    {
     "data": {
      "text/html": [
       "<div>\n",
       "<style scoped>\n",
       "    .dataframe tbody tr th:only-of-type {\n",
       "        vertical-align: middle;\n",
       "    }\n",
       "\n",
       "    .dataframe tbody tr th {\n",
       "        vertical-align: top;\n",
       "    }\n",
       "\n",
       "    .dataframe thead th {\n",
       "        text-align: right;\n",
       "    }\n",
       "</style>\n",
       "<table border=\"1\" class=\"dataframe\">\n",
       "  <thead>\n",
       "    <tr style=\"text-align: right;\">\n",
       "      <th></th>\n",
       "      <th>Interest</th>\n",
       "      <th>Skill_Level</th>\n",
       "      <th>Work_Style</th>\n",
       "      <th>Education</th>\n",
       "      <th>Personality</th>\n",
       "      <th>Problem_Solving</th>\n",
       "      <th>Tech</th>\n",
       "      <th>Communication</th>\n",
       "      <th>Leadership</th>\n",
       "      <th>Creativity</th>\n",
       "      <th>Career</th>\n",
       "    </tr>\n",
       "  </thead>\n",
       "  <tbody>\n",
       "    <tr>\n",
       "      <th>0</th>\n",
       "      <td>art</td>\n",
       "      <td>expert</td>\n",
       "      <td>flexible</td>\n",
       "      <td>masters</td>\n",
       "      <td>thinker</td>\n",
       "      <td>creative</td>\n",
       "      <td>very high</td>\n",
       "      <td>excellent</td>\n",
       "      <td>strong</td>\n",
       "      <td>medium</td>\n",
       "      <td>business analyst</td>\n",
       "    </tr>\n",
       "    <tr>\n",
       "      <th>1</th>\n",
       "      <td>technology</td>\n",
       "      <td>advanced</td>\n",
       "      <td>flexible</td>\n",
       "      <td>phd</td>\n",
       "      <td>thinker</td>\n",
       "      <td>logical</td>\n",
       "      <td>high</td>\n",
       "      <td>poor</td>\n",
       "      <td>moderate</td>\n",
       "      <td>very high</td>\n",
       "      <td>site reliability engineer</td>\n",
       "    </tr>\n",
       "    <tr>\n",
       "      <th>2</th>\n",
       "      <td>art</td>\n",
       "      <td>intermediate</td>\n",
       "      <td>team</td>\n",
       "      <td>phd</td>\n",
       "      <td>extrovert</td>\n",
       "      <td>intuitive</td>\n",
       "      <td>high</td>\n",
       "      <td>excellent</td>\n",
       "      <td>collaborative</td>\n",
       "      <td>low</td>\n",
       "      <td>financial analyst</td>\n",
       "    </tr>\n",
       "    <tr>\n",
       "      <th>3</th>\n",
       "      <td>business</td>\n",
       "      <td>expert</td>\n",
       "      <td>remote</td>\n",
       "      <td>diploma</td>\n",
       "      <td>extrovert</td>\n",
       "      <td>intuitive</td>\n",
       "      <td>high</td>\n",
       "      <td>fluent</td>\n",
       "      <td>collaborative</td>\n",
       "      <td>high</td>\n",
       "      <td>speech recognition specialist</td>\n",
       "    </tr>\n",
       "    <tr>\n",
       "      <th>4</th>\n",
       "      <td>technology</td>\n",
       "      <td>expert</td>\n",
       "      <td>solo</td>\n",
       "      <td>bachelors</td>\n",
       "      <td>thinker</td>\n",
       "      <td>creative</td>\n",
       "      <td>very high</td>\n",
       "      <td>excellent</td>\n",
       "      <td>visionary</td>\n",
       "      <td>medium</td>\n",
       "      <td>game developer</td>\n",
       "    </tr>\n",
       "  </tbody>\n",
       "</table>\n",
       "</div>"
      ],
      "text/plain": [
       "     Interest   Skill_Level Work_Style  Education Personality Problem_Solving  \\\n",
       "0         art        expert   flexible    masters     thinker        creative   \n",
       "1  technology      advanced   flexible        phd     thinker         logical   \n",
       "2         art  intermediate       team        phd   extrovert       intuitive   \n",
       "3    business        expert     remote    diploma   extrovert       intuitive   \n",
       "4  technology        expert       solo  bachelors     thinker        creative   \n",
       "\n",
       "        Tech Communication     Leadership Creativity  \\\n",
       "0  very high     excellent         strong     medium   \n",
       "1       high          poor       moderate  very high   \n",
       "2       high     excellent  collaborative        low   \n",
       "3       high        fluent  collaborative       high   \n",
       "4  very high     excellent      visionary     medium   \n",
       "\n",
       "                          Career  \n",
       "0               business analyst  \n",
       "1      site reliability engineer  \n",
       "2              financial analyst  \n",
       "3  speech recognition specialist  \n",
       "4                 game developer  "
      ]
     },
     "execution_count": 7,
     "metadata": {},
     "output_type": "execute_result"
    }
   ],
   "source": [
    "from dataclasses import dataclass\n",
    "import pandas as pd\n",
    "\n",
    "@dataclass\n",
    "class DataPath:\n",
    "    data_path: str = r'data\\new_career_dataset.csv'\n",
    "    artifact_data_path = r'artifacts/data.csv'\n",
    "\n",
    "paths = DataPath()\n",
    "\n",
    "df = pd.read_csv(paths.data_path)\n",
    "df.head()"
   ]
  },
  {
   "cell_type": "code",
   "execution_count": 8,
   "metadata": {},
   "outputs": [],
   "source": [
    "from sklearn.preprocessing import OneHotEncoder, LabelEncoder\n",
    "from sklearn.compose import ColumnTransformer\n",
    "from sklearn.pipeline import Pipeline"
   ]
  },
  {
   "cell_type": "code",
   "execution_count": 9,
   "metadata": {},
   "outputs": [],
   "source": [
    "X = df.drop(['Career'], axis=1)\n",
    "y = df['Career']"
   ]
  },
  {
   "cell_type": "code",
   "execution_count": 22,
   "metadata": {},
   "outputs": [],
   "source": [
    "columns = X.columns"
   ]
  },
  {
   "cell_type": "code",
   "execution_count": 23,
   "metadata": {},
   "outputs": [],
   "source": [
    "preprocessor = ColumnTransformer([\n",
    "    ('OHE', OneHotEncoder(sparse_output=False), columns)\n",
    "], remainder='passthrough')"
   ]
  },
  {
   "cell_type": "code",
   "execution_count": 24,
   "metadata": {},
   "outputs": [
    {
     "data": {
      "text/plain": [
       "array([[1., 0., 0., ..., 0., 1., 0.],\n",
       "       [0., 0., 0., ..., 0., 0., 1.],\n",
       "       [1., 0., 0., ..., 1., 0., 0.],\n",
       "       ...,\n",
       "       [1., 0., 0., ..., 0., 0., 0.],\n",
       "       [0., 0., 1., ..., 0., 0., 0.],\n",
       "       [0., 0., 1., ..., 0., 0., 0.]])"
      ]
     },
     "execution_count": 24,
     "metadata": {},
     "output_type": "execute_result"
    }
   ],
   "source": [
    "trf_X = preprocessor.fit_transform(X)\n",
    "trf_X"
   ]
  },
  {
   "cell_type": "code",
   "execution_count": 26,
   "metadata": {},
   "outputs": [
    {
     "data": {
      "text/plain": [
       "array([ 7, 31, 18, ..., 36, 22,  9])"
      ]
     },
     "execution_count": 26,
     "metadata": {},
     "output_type": "execute_result"
    }
   ],
   "source": [
    "le = LabelEncoder()\n",
    "le.fit_transform(y)"
   ]
  },
  {
   "cell_type": "code",
   "execution_count": 34,
   "metadata": {},
   "outputs": [],
   "source": [
    "from sklearn.model_selection import train_test_split\n",
    "\n",
    "train, test = train_test_split(df, test_size=0.2)"
   ]
  },
  {
   "cell_type": "code",
   "execution_count": 35,
   "metadata": {},
   "outputs": [
    {
     "data": {
      "text/plain": [
       "(1000, 11)"
      ]
     },
     "execution_count": 35,
     "metadata": {},
     "output_type": "execute_result"
    }
   ],
   "source": [
    "test.shape"
   ]
  },
  {
   "cell_type": "code",
   "execution_count": null,
   "metadata": {},
   "outputs": [],
   "source": []
  }
 ],
 "metadata": {
  "kernelspec": {
   "display_name": "Python 3",
   "language": "python",
   "name": "python3"
  },
  "language_info": {
   "codemirror_mode": {
    "name": "ipython",
    "version": 3
   },
   "file_extension": ".py",
   "mimetype": "text/x-python",
   "name": "python",
   "nbconvert_exporter": "python",
   "pygments_lexer": "ipython3",
   "version": "3.12.6"
  }
 },
 "nbformat": 4,
 "nbformat_minor": 2
}
