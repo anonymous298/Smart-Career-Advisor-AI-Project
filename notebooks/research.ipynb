{
 "cells": [
  {
   "cell_type": "markdown",
   "metadata": {},
   "source": [
    "# Researching the data"
   ]
  },
  {
   "cell_type": "code",
   "execution_count": 19,
   "metadata": {},
   "outputs": [],
   "source": [
    "import pandas as pd"
   ]
  },
  {
   "cell_type": "code",
   "execution_count": 20,
   "metadata": {},
   "outputs": [],
   "source": [
    "df = pd.read_csv('data/synthetic_career_dataset.csv')"
   ]
  },
  {
   "cell_type": "code",
   "execution_count": 21,
   "metadata": {},
   "outputs": [
    {
     "data": {
      "text/html": [
       "<div>\n",
       "<style scoped>\n",
       "    .dataframe tbody tr th:only-of-type {\n",
       "        vertical-align: middle;\n",
       "    }\n",
       "\n",
       "    .dataframe tbody tr th {\n",
       "        vertical-align: top;\n",
       "    }\n",
       "\n",
       "    .dataframe thead th {\n",
       "        text-align: right;\n",
       "    }\n",
       "</style>\n",
       "<table border=\"1\" class=\"dataframe\">\n",
       "  <thead>\n",
       "    <tr style=\"text-align: right;\">\n",
       "      <th></th>\n",
       "      <th>Interest</th>\n",
       "      <th>Skill_Level</th>\n",
       "      <th>Work_Style</th>\n",
       "      <th>Education</th>\n",
       "      <th>Personality</th>\n",
       "      <th>Problem_Solving</th>\n",
       "      <th>Tech</th>\n",
       "      <th>Communication</th>\n",
       "      <th>Leadership</th>\n",
       "      <th>Creativity</th>\n",
       "      <th>Career</th>\n",
       "    </tr>\n",
       "  </thead>\n",
       "  <tbody>\n",
       "    <tr>\n",
       "      <th>0</th>\n",
       "      <td>Art</td>\n",
       "      <td>Expert</td>\n",
       "      <td>Flexible</td>\n",
       "      <td>Masters</td>\n",
       "      <td>Thinker</td>\n",
       "      <td>Creative</td>\n",
       "      <td>Very High</td>\n",
       "      <td>Excellent</td>\n",
       "      <td>Strong</td>\n",
       "      <td>Medium</td>\n",
       "      <td>Software Engineer</td>\n",
       "    </tr>\n",
       "    <tr>\n",
       "      <th>1</th>\n",
       "      <td>Technology</td>\n",
       "      <td>NaN</td>\n",
       "      <td>Flexible</td>\n",
       "      <td>PhD</td>\n",
       "      <td>Thinker</td>\n",
       "      <td>Logical</td>\n",
       "      <td>NaN</td>\n",
       "      <td>Poor</td>\n",
       "      <td>Moderate</td>\n",
       "      <td>Very High</td>\n",
       "      <td>Marketing Manager</td>\n",
       "    </tr>\n",
       "    <tr>\n",
       "      <th>2</th>\n",
       "      <td>Art</td>\n",
       "      <td>Intermediate</td>\n",
       "      <td>Team</td>\n",
       "      <td>PhD</td>\n",
       "      <td>Extrovert</td>\n",
       "      <td>Intuitive</td>\n",
       "      <td>NaN</td>\n",
       "      <td>Excellent</td>\n",
       "      <td>Collaborative</td>\n",
       "      <td>Low</td>\n",
       "      <td>Data Scientist</td>\n",
       "    </tr>\n",
       "    <tr>\n",
       "      <th>3</th>\n",
       "      <td>Business</td>\n",
       "      <td>Expert</td>\n",
       "      <td>Remote</td>\n",
       "      <td>Diploma</td>\n",
       "      <td>Extrovert</td>\n",
       "      <td>Intuitive</td>\n",
       "      <td>High</td>\n",
       "      <td>Fluent</td>\n",
       "      <td>NaN</td>\n",
       "      <td>High</td>\n",
       "      <td>Data Scientist</td>\n",
       "    </tr>\n",
       "    <tr>\n",
       "      <th>4</th>\n",
       "      <td>Technology</td>\n",
       "      <td>Expert</td>\n",
       "      <td>Solo</td>\n",
       "      <td>Bachelors</td>\n",
       "      <td>Thinker</td>\n",
       "      <td>Creative</td>\n",
       "      <td>Very High</td>\n",
       "      <td>Excellent</td>\n",
       "      <td>Visionary</td>\n",
       "      <td>Medium</td>\n",
       "      <td>Data Scientist</td>\n",
       "    </tr>\n",
       "  </tbody>\n",
       "</table>\n",
       "</div>"
      ],
      "text/plain": [
       "     Interest   Skill_Level Work_Style  Education Personality Problem_Solving  \\\n",
       "0         Art        Expert   Flexible    Masters     Thinker        Creative   \n",
       "1  Technology           NaN   Flexible        PhD     Thinker         Logical   \n",
       "2         Art  Intermediate       Team        PhD   Extrovert       Intuitive   \n",
       "3    Business        Expert     Remote    Diploma   Extrovert       Intuitive   \n",
       "4  Technology        Expert       Solo  Bachelors     Thinker        Creative   \n",
       "\n",
       "        Tech Communication     Leadership Creativity             Career  \n",
       "0  Very High     Excellent         Strong     Medium  Software Engineer  \n",
       "1        NaN          Poor       Moderate  Very High  Marketing Manager  \n",
       "2        NaN     Excellent  Collaborative        Low     Data Scientist  \n",
       "3       High        Fluent            NaN       High     Data Scientist  \n",
       "4  Very High     Excellent      Visionary     Medium     Data Scientist  "
      ]
     },
     "execution_count": 21,
     "metadata": {},
     "output_type": "execute_result"
    }
   ],
   "source": [
    "df.head()"
   ]
  },
  {
   "cell_type": "code",
   "execution_count": 22,
   "metadata": {},
   "outputs": [
    {
     "data": {
      "text/plain": [
       "(5000, 11)"
      ]
     },
     "execution_count": 22,
     "metadata": {},
     "output_type": "execute_result"
    }
   ],
   "source": [
    "df.shape"
   ]
  },
  {
   "cell_type": "code",
   "execution_count": 23,
   "metadata": {},
   "outputs": [
    {
     "data": {
      "text/plain": [
       "array(['Software Engineer', 'Marketing Manager', 'Data Scientist',\n",
       "       'Graphic Designer', 'Doctor'], dtype=object)"
      ]
     },
     "execution_count": 23,
     "metadata": {},
     "output_type": "execute_result"
    }
   ],
   "source": [
    "df.Career.unique()"
   ]
  },
  {
   "cell_type": "code",
   "execution_count": 24,
   "metadata": {},
   "outputs": [
    {
     "data": {
      "text/plain": [
       "(5000,)"
      ]
     },
     "execution_count": 24,
     "metadata": {},
     "output_type": "execute_result"
    }
   ],
   "source": [
    "df.Career.shape"
   ]
  },
  {
   "cell_type": "markdown",
   "metadata": {},
   "source": [
    "### Feature Engineering"
   ]
  },
  {
   "cell_type": "code",
   "execution_count": 25,
   "metadata": {},
   "outputs": [
    {
     "data": {
      "text/html": [
       "<div>\n",
       "<style scoped>\n",
       "    .dataframe tbody tr th:only-of-type {\n",
       "        vertical-align: middle;\n",
       "    }\n",
       "\n",
       "    .dataframe tbody tr th {\n",
       "        vertical-align: top;\n",
       "    }\n",
       "\n",
       "    .dataframe thead th {\n",
       "        text-align: right;\n",
       "    }\n",
       "</style>\n",
       "<table border=\"1\" class=\"dataframe\">\n",
       "  <thead>\n",
       "    <tr style=\"text-align: right;\">\n",
       "      <th></th>\n",
       "      <th>Feature_1</th>\n",
       "      <th>Feature_2</th>\n",
       "      <th>Feature_3</th>\n",
       "      <th>Feature_4</th>\n",
       "      <th>Feature_5</th>\n",
       "      <th>Feature_6</th>\n",
       "      <th>Feature_7</th>\n",
       "      <th>Feature_8</th>\n",
       "      <th>Feature_9</th>\n",
       "      <th>Feature_10</th>\n",
       "      <th>Career</th>\n",
       "    </tr>\n",
       "  </thead>\n",
       "  <tbody>\n",
       "    <tr>\n",
       "      <th>0</th>\n",
       "      <td>Category_1_1</td>\n",
       "      <td>Category_2_2</td>\n",
       "      <td>Category_3_1</td>\n",
       "      <td>Category_4_1</td>\n",
       "      <td>Category_5_1</td>\n",
       "      <td>Category_6_1</td>\n",
       "      <td>Category_7_4</td>\n",
       "      <td>Category_8_1</td>\n",
       "      <td>Category_9_4</td>\n",
       "      <td>Category_10_4</td>\n",
       "      <td>Business Analyst</td>\n",
       "    </tr>\n",
       "    <tr>\n",
       "      <th>1</th>\n",
       "      <td>Category_1_1</td>\n",
       "      <td>Category_2_1</td>\n",
       "      <td>Category_3_1</td>\n",
       "      <td>Category_4_1</td>\n",
       "      <td>Category_5_3</td>\n",
       "      <td>Category_6_1</td>\n",
       "      <td>Category_7_4</td>\n",
       "      <td>Category_8_4</td>\n",
       "      <td>Category_9_4</td>\n",
       "      <td>Category_10_2</td>\n",
       "      <td>Site Reliability Engineer</td>\n",
       "    </tr>\n",
       "    <tr>\n",
       "      <th>2</th>\n",
       "      <td>Category_1_2</td>\n",
       "      <td>Category_2_4</td>\n",
       "      <td>Category_3_4</td>\n",
       "      <td>Category_4_2</td>\n",
       "      <td>Category_5_5</td>\n",
       "      <td>Category_6_1</td>\n",
       "      <td>Category_7_5</td>\n",
       "      <td>Category_8_5</td>\n",
       "      <td>Category_9_4</td>\n",
       "      <td>Category_10_1</td>\n",
       "      <td>Financial Analyst</td>\n",
       "    </tr>\n",
       "    <tr>\n",
       "      <th>3</th>\n",
       "      <td>Category_1_2</td>\n",
       "      <td>Category_2_4</td>\n",
       "      <td>Category_3_4</td>\n",
       "      <td>Category_4_5</td>\n",
       "      <td>Category_5_2</td>\n",
       "      <td>Category_6_4</td>\n",
       "      <td>Category_7_3</td>\n",
       "      <td>Category_8_3</td>\n",
       "      <td>Category_9_3</td>\n",
       "      <td>Category_10_2</td>\n",
       "      <td>Speech Recognition Specialist</td>\n",
       "    </tr>\n",
       "    <tr>\n",
       "      <th>4</th>\n",
       "      <td>Category_1_4</td>\n",
       "      <td>Category_2_5</td>\n",
       "      <td>Category_3_1</td>\n",
       "      <td>Category_4_1</td>\n",
       "      <td>Category_5_4</td>\n",
       "      <td>Category_6_3</td>\n",
       "      <td>Category_7_5</td>\n",
       "      <td>Category_8_4</td>\n",
       "      <td>Category_9_2</td>\n",
       "      <td>Category_10_5</td>\n",
       "      <td>Game Developer</td>\n",
       "    </tr>\n",
       "  </tbody>\n",
       "</table>\n",
       "</div>"
      ],
      "text/plain": [
       "      Feature_1     Feature_2     Feature_3     Feature_4     Feature_5  \\\n",
       "0  Category_1_1  Category_2_2  Category_3_1  Category_4_1  Category_5_1   \n",
       "1  Category_1_1  Category_2_1  Category_3_1  Category_4_1  Category_5_3   \n",
       "2  Category_1_2  Category_2_4  Category_3_4  Category_4_2  Category_5_5   \n",
       "3  Category_1_2  Category_2_4  Category_3_4  Category_4_5  Category_5_2   \n",
       "4  Category_1_4  Category_2_5  Category_3_1  Category_4_1  Category_5_4   \n",
       "\n",
       "      Feature_6     Feature_7     Feature_8     Feature_9     Feature_10  \\\n",
       "0  Category_6_1  Category_7_4  Category_8_1  Category_9_4  Category_10_4   \n",
       "1  Category_6_1  Category_7_4  Category_8_4  Category_9_4  Category_10_2   \n",
       "2  Category_6_1  Category_7_5  Category_8_5  Category_9_4  Category_10_1   \n",
       "3  Category_6_4  Category_7_3  Category_8_3  Category_9_3  Category_10_2   \n",
       "4  Category_6_3  Category_7_5  Category_8_4  Category_9_2  Category_10_5   \n",
       "\n",
       "                          Career  \n",
       "0               Business Analyst  \n",
       "1      Site Reliability Engineer  \n",
       "2              Financial Analyst  \n",
       "3  Speech Recognition Specialist  \n",
       "4                 Game Developer  "
      ]
     },
     "execution_count": 25,
     "metadata": {},
     "output_type": "execute_result"
    }
   ],
   "source": [
    "import pandas as pd\n",
    "import random\n",
    "\n",
    "# Define columns and categories\n",
    "columns = [f\"Feature_{i}\" for i in range(1, 11)]\n",
    "categories = {\n",
    "    f\"Feature_{i}\": [f\"Category_{i}_{j}\" for j in range(1, 6)] for i in range(1, 11)\n",
    "}\n",
    "\n",
    "# Define a large set of career options (dependent feature)\n",
    "career_options = [\n",
    "    \"Data Scientist\", \"ML Engineer\", \"AI Researcher\", \"Data Analyst\", \"Software Engineer\",\n",
    "    \"Web Developer\", \"Blockchain Developer\", \"Cybersecurity Analyst\", \"DevOps Engineer\",\n",
    "    \"Product Manager\", \"Cloud Architect\", \"UI/UX Designer\", \"Business Analyst\", \"NLP Engineer\",\n",
    "    \"Computer Vision Engineer\", \"Database Administrator\", \"System Architect\", \"Embedded Systems Engineer\",\n",
    "    \"IoT Specialist\", \"Game Developer\", \"Mobile App Developer\", \"Full Stack Developer\", \"Technical Writer\",\n",
    "    \"QA Engineer\", \"Site Reliability Engineer\", \"AI Ethics Researcher\", \"Robotics Engineer\", \"Data Engineer\",\n",
    "    \"Deep Learning Engineer\", \"Bioinformatics Scientist\", \"Network Engineer\", \"Solutions Architect\",\n",
    "    \"Augmented Reality Developer\", \"Virtual Reality Developer\", \"Hardware Engineer\", \"Automation Engineer\",\n",
    "    \"Research Scientist\", \"Speech Recognition Specialist\", \"Algorithm Engineer\", \"Financial Analyst\"\n",
    "]\n",
    "\n",
    "# Generate synthetic data\n",
    "data = []\n",
    "num_samples = 5000  # Larger dataset\n",
    "\n",
    "for _ in range(num_samples):\n",
    "    row = {col: random.choice(categories[col]) for col in columns}\n",
    "    row[\"Career\"] = random.choice(career_options)\n",
    "    data.append(row)\n",
    "\n",
    "# Create DataFrame\n",
    "df_large = pd.DataFrame(data)\n",
    "df_large.head()"
   ]
  },
  {
   "cell_type": "code",
   "execution_count": 26,
   "metadata": {},
   "outputs": [
    {
     "data": {
      "text/plain": [
       "array(['Business Analyst', 'Site Reliability Engineer',\n",
       "       'Financial Analyst', 'Speech Recognition Specialist',\n",
       "       'Game Developer', 'Hardware Engineer', 'Web Developer',\n",
       "       'Mobile App Developer', 'Product Manager', 'DevOps Engineer',\n",
       "       'Technical Writer', 'Embedded Systems Engineer',\n",
       "       'Software Engineer', 'Full Stack Developer', 'IoT Specialist',\n",
       "       'Algorithm Engineer', 'Bioinformatics Scientist', 'UI/UX Designer',\n",
       "       'Blockchain Developer', 'Cybersecurity Analyst',\n",
       "       'Augmented Reality Developer', 'NLP Engineer', 'Data Analyst',\n",
       "       'Solutions Architect', 'Computer Vision Engineer',\n",
       "       'Data Scientist', 'AI Researcher', 'Automation Engineer',\n",
       "       'QA Engineer', 'Database Administrator', 'Cloud Architect',\n",
       "       'Research Scientist', 'Deep Learning Engineer',\n",
       "       'AI Ethics Researcher', 'Data Engineer', 'Robotics Engineer',\n",
       "       'Virtual Reality Developer', 'Network Engineer', 'ML Engineer',\n",
       "       'System Architect'], dtype=object)"
      ]
     },
     "execution_count": 26,
     "metadata": {},
     "output_type": "execute_result"
    }
   ],
   "source": [
    "df_large.Career.unique()"
   ]
  },
  {
   "cell_type": "code",
   "execution_count": 27,
   "metadata": {},
   "outputs": [
    {
     "data": {
      "text/plain": [
       "(5000,)"
      ]
     },
     "execution_count": 27,
     "metadata": {},
     "output_type": "execute_result"
    }
   ],
   "source": [
    "df_large.Career.shape"
   ]
  },
  {
   "cell_type": "code",
   "execution_count": 28,
   "metadata": {},
   "outputs": [],
   "source": [
    "df.drop(['Career'], axis=1, inplace=True)"
   ]
  },
  {
   "cell_type": "code",
   "execution_count": 29,
   "metadata": {},
   "outputs": [
    {
     "data": {
      "text/html": [
       "<div>\n",
       "<style scoped>\n",
       "    .dataframe tbody tr th:only-of-type {\n",
       "        vertical-align: middle;\n",
       "    }\n",
       "\n",
       "    .dataframe tbody tr th {\n",
       "        vertical-align: top;\n",
       "    }\n",
       "\n",
       "    .dataframe thead th {\n",
       "        text-align: right;\n",
       "    }\n",
       "</style>\n",
       "<table border=\"1\" class=\"dataframe\">\n",
       "  <thead>\n",
       "    <tr style=\"text-align: right;\">\n",
       "      <th></th>\n",
       "      <th>Interest</th>\n",
       "      <th>Skill_Level</th>\n",
       "      <th>Work_Style</th>\n",
       "      <th>Education</th>\n",
       "      <th>Personality</th>\n",
       "      <th>Problem_Solving</th>\n",
       "      <th>Tech</th>\n",
       "      <th>Communication</th>\n",
       "      <th>Leadership</th>\n",
       "      <th>Creativity</th>\n",
       "    </tr>\n",
       "  </thead>\n",
       "  <tbody>\n",
       "    <tr>\n",
       "      <th>0</th>\n",
       "      <td>Art</td>\n",
       "      <td>Expert</td>\n",
       "      <td>Flexible</td>\n",
       "      <td>Masters</td>\n",
       "      <td>Thinker</td>\n",
       "      <td>Creative</td>\n",
       "      <td>Very High</td>\n",
       "      <td>Excellent</td>\n",
       "      <td>Strong</td>\n",
       "      <td>Medium</td>\n",
       "    </tr>\n",
       "    <tr>\n",
       "      <th>1</th>\n",
       "      <td>Technology</td>\n",
       "      <td>NaN</td>\n",
       "      <td>Flexible</td>\n",
       "      <td>PhD</td>\n",
       "      <td>Thinker</td>\n",
       "      <td>Logical</td>\n",
       "      <td>NaN</td>\n",
       "      <td>Poor</td>\n",
       "      <td>Moderate</td>\n",
       "      <td>Very High</td>\n",
       "    </tr>\n",
       "    <tr>\n",
       "      <th>2</th>\n",
       "      <td>Art</td>\n",
       "      <td>Intermediate</td>\n",
       "      <td>Team</td>\n",
       "      <td>PhD</td>\n",
       "      <td>Extrovert</td>\n",
       "      <td>Intuitive</td>\n",
       "      <td>NaN</td>\n",
       "      <td>Excellent</td>\n",
       "      <td>Collaborative</td>\n",
       "      <td>Low</td>\n",
       "    </tr>\n",
       "    <tr>\n",
       "      <th>3</th>\n",
       "      <td>Business</td>\n",
       "      <td>Expert</td>\n",
       "      <td>Remote</td>\n",
       "      <td>Diploma</td>\n",
       "      <td>Extrovert</td>\n",
       "      <td>Intuitive</td>\n",
       "      <td>High</td>\n",
       "      <td>Fluent</td>\n",
       "      <td>NaN</td>\n",
       "      <td>High</td>\n",
       "    </tr>\n",
       "    <tr>\n",
       "      <th>4</th>\n",
       "      <td>Technology</td>\n",
       "      <td>Expert</td>\n",
       "      <td>Solo</td>\n",
       "      <td>Bachelors</td>\n",
       "      <td>Thinker</td>\n",
       "      <td>Creative</td>\n",
       "      <td>Very High</td>\n",
       "      <td>Excellent</td>\n",
       "      <td>Visionary</td>\n",
       "      <td>Medium</td>\n",
       "    </tr>\n",
       "  </tbody>\n",
       "</table>\n",
       "</div>"
      ],
      "text/plain": [
       "     Interest   Skill_Level Work_Style  Education Personality Problem_Solving  \\\n",
       "0         Art        Expert   Flexible    Masters     Thinker        Creative   \n",
       "1  Technology           NaN   Flexible        PhD     Thinker         Logical   \n",
       "2         Art  Intermediate       Team        PhD   Extrovert       Intuitive   \n",
       "3    Business        Expert     Remote    Diploma   Extrovert       Intuitive   \n",
       "4  Technology        Expert       Solo  Bachelors     Thinker        Creative   \n",
       "\n",
       "        Tech Communication     Leadership Creativity  \n",
       "0  Very High     Excellent         Strong     Medium  \n",
       "1        NaN          Poor       Moderate  Very High  \n",
       "2        NaN     Excellent  Collaborative        Low  \n",
       "3       High        Fluent            NaN       High  \n",
       "4  Very High     Excellent      Visionary     Medium  "
      ]
     },
     "execution_count": 29,
     "metadata": {},
     "output_type": "execute_result"
    }
   ],
   "source": [
    "df.head()"
   ]
  },
  {
   "cell_type": "code",
   "execution_count": 30,
   "metadata": {},
   "outputs": [],
   "source": [
    "df['Career'] = df_large['Career']"
   ]
  },
  {
   "cell_type": "code",
   "execution_count": 31,
   "metadata": {},
   "outputs": [
    {
     "data": {
      "text/html": [
       "<div>\n",
       "<style scoped>\n",
       "    .dataframe tbody tr th:only-of-type {\n",
       "        vertical-align: middle;\n",
       "    }\n",
       "\n",
       "    .dataframe tbody tr th {\n",
       "        vertical-align: top;\n",
       "    }\n",
       "\n",
       "    .dataframe thead th {\n",
       "        text-align: right;\n",
       "    }\n",
       "</style>\n",
       "<table border=\"1\" class=\"dataframe\">\n",
       "  <thead>\n",
       "    <tr style=\"text-align: right;\">\n",
       "      <th></th>\n",
       "      <th>Interest</th>\n",
       "      <th>Skill_Level</th>\n",
       "      <th>Work_Style</th>\n",
       "      <th>Education</th>\n",
       "      <th>Personality</th>\n",
       "      <th>Problem_Solving</th>\n",
       "      <th>Tech</th>\n",
       "      <th>Communication</th>\n",
       "      <th>Leadership</th>\n",
       "      <th>Creativity</th>\n",
       "      <th>Career</th>\n",
       "    </tr>\n",
       "  </thead>\n",
       "  <tbody>\n",
       "    <tr>\n",
       "      <th>0</th>\n",
       "      <td>Art</td>\n",
       "      <td>Expert</td>\n",
       "      <td>Flexible</td>\n",
       "      <td>Masters</td>\n",
       "      <td>Thinker</td>\n",
       "      <td>Creative</td>\n",
       "      <td>Very High</td>\n",
       "      <td>Excellent</td>\n",
       "      <td>Strong</td>\n",
       "      <td>Medium</td>\n",
       "      <td>Business Analyst</td>\n",
       "    </tr>\n",
       "    <tr>\n",
       "      <th>1</th>\n",
       "      <td>Technology</td>\n",
       "      <td>NaN</td>\n",
       "      <td>Flexible</td>\n",
       "      <td>PhD</td>\n",
       "      <td>Thinker</td>\n",
       "      <td>Logical</td>\n",
       "      <td>NaN</td>\n",
       "      <td>Poor</td>\n",
       "      <td>Moderate</td>\n",
       "      <td>Very High</td>\n",
       "      <td>Site Reliability Engineer</td>\n",
       "    </tr>\n",
       "    <tr>\n",
       "      <th>2</th>\n",
       "      <td>Art</td>\n",
       "      <td>Intermediate</td>\n",
       "      <td>Team</td>\n",
       "      <td>PhD</td>\n",
       "      <td>Extrovert</td>\n",
       "      <td>Intuitive</td>\n",
       "      <td>NaN</td>\n",
       "      <td>Excellent</td>\n",
       "      <td>Collaborative</td>\n",
       "      <td>Low</td>\n",
       "      <td>Financial Analyst</td>\n",
       "    </tr>\n",
       "    <tr>\n",
       "      <th>3</th>\n",
       "      <td>Business</td>\n",
       "      <td>Expert</td>\n",
       "      <td>Remote</td>\n",
       "      <td>Diploma</td>\n",
       "      <td>Extrovert</td>\n",
       "      <td>Intuitive</td>\n",
       "      <td>High</td>\n",
       "      <td>Fluent</td>\n",
       "      <td>NaN</td>\n",
       "      <td>High</td>\n",
       "      <td>Speech Recognition Specialist</td>\n",
       "    </tr>\n",
       "    <tr>\n",
       "      <th>4</th>\n",
       "      <td>Technology</td>\n",
       "      <td>Expert</td>\n",
       "      <td>Solo</td>\n",
       "      <td>Bachelors</td>\n",
       "      <td>Thinker</td>\n",
       "      <td>Creative</td>\n",
       "      <td>Very High</td>\n",
       "      <td>Excellent</td>\n",
       "      <td>Visionary</td>\n",
       "      <td>Medium</td>\n",
       "      <td>Game Developer</td>\n",
       "    </tr>\n",
       "  </tbody>\n",
       "</table>\n",
       "</div>"
      ],
      "text/plain": [
       "     Interest   Skill_Level Work_Style  Education Personality Problem_Solving  \\\n",
       "0         Art        Expert   Flexible    Masters     Thinker        Creative   \n",
       "1  Technology           NaN   Flexible        PhD     Thinker         Logical   \n",
       "2         Art  Intermediate       Team        PhD   Extrovert       Intuitive   \n",
       "3    Business        Expert     Remote    Diploma   Extrovert       Intuitive   \n",
       "4  Technology        Expert       Solo  Bachelors     Thinker        Creative   \n",
       "\n",
       "        Tech Communication     Leadership Creativity  \\\n",
       "0  Very High     Excellent         Strong     Medium   \n",
       "1        NaN          Poor       Moderate  Very High   \n",
       "2        NaN     Excellent  Collaborative        Low   \n",
       "3       High        Fluent            NaN       High   \n",
       "4  Very High     Excellent      Visionary     Medium   \n",
       "\n",
       "                          Career  \n",
       "0               Business Analyst  \n",
       "1      Site Reliability Engineer  \n",
       "2              Financial Analyst  \n",
       "3  Speech Recognition Specialist  \n",
       "4                 Game Developer  "
      ]
     },
     "execution_count": 31,
     "metadata": {},
     "output_type": "execute_result"
    }
   ],
   "source": [
    "df.head()"
   ]
  },
  {
   "cell_type": "code",
   "execution_count": 32,
   "metadata": {},
   "outputs": [
    {
     "data": {
      "text/plain": [
       "array(['Business Analyst', 'Site Reliability Engineer',\n",
       "       'Financial Analyst', 'Speech Recognition Specialist',\n",
       "       'Game Developer', 'Hardware Engineer', 'Web Developer',\n",
       "       'Mobile App Developer', 'Product Manager', 'DevOps Engineer',\n",
       "       'Technical Writer', 'Embedded Systems Engineer',\n",
       "       'Software Engineer', 'Full Stack Developer', 'IoT Specialist',\n",
       "       'Algorithm Engineer', 'Bioinformatics Scientist', 'UI/UX Designer',\n",
       "       'Blockchain Developer', 'Cybersecurity Analyst',\n",
       "       'Augmented Reality Developer', 'NLP Engineer', 'Data Analyst',\n",
       "       'Solutions Architect', 'Computer Vision Engineer',\n",
       "       'Data Scientist', 'AI Researcher', 'Automation Engineer',\n",
       "       'QA Engineer', 'Database Administrator', 'Cloud Architect',\n",
       "       'Research Scientist', 'Deep Learning Engineer',\n",
       "       'AI Ethics Researcher', 'Data Engineer', 'Robotics Engineer',\n",
       "       'Virtual Reality Developer', 'Network Engineer', 'ML Engineer',\n",
       "       'System Architect'], dtype=object)"
      ]
     },
     "execution_count": 32,
     "metadata": {},
     "output_type": "execute_result"
    }
   ],
   "source": [
    "df.Career.unique()"
   ]
  },
  {
   "cell_type": "code",
   "execution_count": 33,
   "metadata": {},
   "outputs": [
    {
     "data": {
      "text/plain": [
       "(5000, 11)"
      ]
     },
     "execution_count": 33,
     "metadata": {},
     "output_type": "execute_result"
    }
   ],
   "source": [
    "df.shape"
   ]
  },
  {
   "cell_type": "code",
   "execution_count": 34,
   "metadata": {},
   "outputs": [],
   "source": [
    "df.to_csv('data/career_dataset.csv', index=False)"
   ]
  },
  {
   "cell_type": "code",
   "execution_count": 2,
   "metadata": {},
   "outputs": [],
   "source": [
    "import pandas as pd"
   ]
  },
  {
   "cell_type": "code",
   "execution_count": null,
   "metadata": {},
   "outputs": [],
   "source": []
  }
 ],
 "metadata": {
  "kernelspec": {
   "display_name": "base",
   "language": "python",
   "name": "python3"
  },
  "language_info": {
   "codemirror_mode": {
    "name": "ipython",
    "version": 3
   },
   "file_extension": ".py",
   "mimetype": "text/x-python",
   "name": "python",
   "nbconvert_exporter": "python",
   "pygments_lexer": "ipython3",
   "version": "3.12.6"
  }
 },
 "nbformat": 4,
 "nbformat_minor": 2
}
