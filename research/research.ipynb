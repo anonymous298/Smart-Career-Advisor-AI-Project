{
 "cells": [
  {
   "cell_type": "markdown",
   "metadata": {},
   "source": [
    "# Researching the data"
   ]
  },
  {
   "cell_type": "code",
   "execution_count": 1,
   "metadata": {},
   "outputs": [],
   "source": [
    "import pandas as pd"
   ]
  },
  {
   "cell_type": "code",
   "execution_count": 2,
   "metadata": {},
   "outputs": [],
   "source": [
    "df = pd.read_csv('data/synthetic_career_dataset.csv')"
   ]
  },
  {
   "cell_type": "code",
   "execution_count": 3,
   "metadata": {},
   "outputs": [
    {
     "data": {
      "text/html": [
       "<div>\n",
       "<style scoped>\n",
       "    .dataframe tbody tr th:only-of-type {\n",
       "        vertical-align: middle;\n",
       "    }\n",
       "\n",
       "    .dataframe tbody tr th {\n",
       "        vertical-align: top;\n",
       "    }\n",
       "\n",
       "    .dataframe thead th {\n",
       "        text-align: right;\n",
       "    }\n",
       "</style>\n",
       "<table border=\"1\" class=\"dataframe\">\n",
       "  <thead>\n",
       "    <tr style=\"text-align: right;\">\n",
       "      <th></th>\n",
       "      <th>Interest</th>\n",
       "      <th>Skill_Level</th>\n",
       "      <th>Work_Style</th>\n",
       "      <th>Education</th>\n",
       "      <th>Personality</th>\n",
       "      <th>Problem_Solving</th>\n",
       "      <th>Tech</th>\n",
       "      <th>Communication</th>\n",
       "      <th>Leadership</th>\n",
       "      <th>Creativity</th>\n",
       "      <th>Career</th>\n",
       "    </tr>\n",
       "  </thead>\n",
       "  <tbody>\n",
       "    <tr>\n",
       "      <th>0</th>\n",
       "      <td>Art</td>\n",
       "      <td>Expert</td>\n",
       "      <td>Flexible</td>\n",
       "      <td>Masters</td>\n",
       "      <td>Thinker</td>\n",
       "      <td>Creative</td>\n",
       "      <td>Very High</td>\n",
       "      <td>Excellent</td>\n",
       "      <td>Strong</td>\n",
       "      <td>Medium</td>\n",
       "      <td>Software Engineer</td>\n",
       "    </tr>\n",
       "    <tr>\n",
       "      <th>1</th>\n",
       "      <td>Technology</td>\n",
       "      <td>NaN</td>\n",
       "      <td>Flexible</td>\n",
       "      <td>PhD</td>\n",
       "      <td>Thinker</td>\n",
       "      <td>Logical</td>\n",
       "      <td>NaN</td>\n",
       "      <td>Poor</td>\n",
       "      <td>Moderate</td>\n",
       "      <td>Very High</td>\n",
       "      <td>Marketing Manager</td>\n",
       "    </tr>\n",
       "    <tr>\n",
       "      <th>2</th>\n",
       "      <td>Art</td>\n",
       "      <td>Intermediate</td>\n",
       "      <td>Team</td>\n",
       "      <td>PhD</td>\n",
       "      <td>Extrovert</td>\n",
       "      <td>Intuitive</td>\n",
       "      <td>NaN</td>\n",
       "      <td>Excellent</td>\n",
       "      <td>Collaborative</td>\n",
       "      <td>Low</td>\n",
       "      <td>Data Scientist</td>\n",
       "    </tr>\n",
       "    <tr>\n",
       "      <th>3</th>\n",
       "      <td>Business</td>\n",
       "      <td>Expert</td>\n",
       "      <td>Remote</td>\n",
       "      <td>Diploma</td>\n",
       "      <td>Extrovert</td>\n",
       "      <td>Intuitive</td>\n",
       "      <td>High</td>\n",
       "      <td>Fluent</td>\n",
       "      <td>NaN</td>\n",
       "      <td>High</td>\n",
       "      <td>Data Scientist</td>\n",
       "    </tr>\n",
       "    <tr>\n",
       "      <th>4</th>\n",
       "      <td>Technology</td>\n",
       "      <td>Expert</td>\n",
       "      <td>Solo</td>\n",
       "      <td>Bachelors</td>\n",
       "      <td>Thinker</td>\n",
       "      <td>Creative</td>\n",
       "      <td>Very High</td>\n",
       "      <td>Excellent</td>\n",
       "      <td>Visionary</td>\n",
       "      <td>Medium</td>\n",
       "      <td>Data Scientist</td>\n",
       "    </tr>\n",
       "  </tbody>\n",
       "</table>\n",
       "</div>"
      ],
      "text/plain": [
       "     Interest   Skill_Level Work_Style  Education Personality Problem_Solving  \\\n",
       "0         Art        Expert   Flexible    Masters     Thinker        Creative   \n",
       "1  Technology           NaN   Flexible        PhD     Thinker         Logical   \n",
       "2         Art  Intermediate       Team        PhD   Extrovert       Intuitive   \n",
       "3    Business        Expert     Remote    Diploma   Extrovert       Intuitive   \n",
       "4  Technology        Expert       Solo  Bachelors     Thinker        Creative   \n",
       "\n",
       "        Tech Communication     Leadership Creativity             Career  \n",
       "0  Very High     Excellent         Strong     Medium  Software Engineer  \n",
       "1        NaN          Poor       Moderate  Very High  Marketing Manager  \n",
       "2        NaN     Excellent  Collaborative        Low     Data Scientist  \n",
       "3       High        Fluent            NaN       High     Data Scientist  \n",
       "4  Very High     Excellent      Visionary     Medium     Data Scientist  "
      ]
     },
     "execution_count": 3,
     "metadata": {},
     "output_type": "execute_result"
    }
   ],
   "source": [
    "df.head()"
   ]
  },
  {
   "cell_type": "code",
   "execution_count": 4,
   "metadata": {},
   "outputs": [
    {
     "data": {
      "text/plain": [
       "(5000, 11)"
      ]
     },
     "execution_count": 4,
     "metadata": {},
     "output_type": "execute_result"
    }
   ],
   "source": [
    "df.shape"
   ]
  },
  {
   "cell_type": "code",
   "execution_count": null,
   "metadata": {},
   "outputs": [],
   "source": []
  }
 ],
 "metadata": {
  "kernelspec": {
   "display_name": "base",
   "language": "python",
   "name": "python3"
  },
  "language_info": {
   "codemirror_mode": {
    "name": "ipython",
    "version": 3
   },
   "file_extension": ".py",
   "mimetype": "text/x-python",
   "name": "python",
   "nbconvert_exporter": "python",
   "pygments_lexer": "ipython3",
   "version": "3.12.7"
  }
 },
 "nbformat": 4,
 "nbformat_minor": 2
}
